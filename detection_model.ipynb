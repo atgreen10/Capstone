{
 "cells": [
  {
   "cell_type": "code",
   "execution_count": 18,
   "id": "ecee5a33",
   "metadata": {
    "ExecuteTime": {
     "end_time": "2024-06-29T13:18:20.622122Z",
     "start_time": "2024-06-29T13:18:18.327457Z"
    }
   },
   "outputs": [],
   "source": [
    "import tensorflow as tf\n",
    "import matplotlib.pyplot as plt\n",
    "import pandas as pd\n",
    "import seaborn as sns\n",
    "import tensorflow.keras as keras\n",
    "import json\n",
    "import os\n",
    "from zipfile import ZipFile"
   ]
  },
  {
   "cell_type": "code",
   "execution_count": 19,
   "id": "c1e0387f8154896",
   "metadata": {
    "ExecuteTime": {
     "end_time": "2024-06-29T13:18:24.104556Z",
     "start_time": "2024-06-29T13:18:23.314191Z"
    }
   },
   "outputs": [
    {
     "name": "stdout",
     "output_type": "stream",
     "text": [
      "[PhysicalDevice(name='/physical_device:GPU:0', device_type='GPU')]\n",
      "Num GPUs Available:  1\n",
      "True\n",
      "[PhysicalDevice(name='/physical_device:GPU:0', device_type='GPU')]\n"
     ]
    }
   ],
   "source": [
    "print(tf.config.list_physical_devices('GPU'))\n",
    "print(\"Num GPUs Available: \", len(tf.config.list_physical_devices('GPU')))\n",
    "\n",
    "print(tf.test.is_built_with_cuda())\n",
    "print(tf.config.list_physical_devices('GPU'))"
   ]
  },
  {
   "cell_type": "code",
   "id": "dec0b4a7185255df",
   "metadata": {
    "ExecuteTime": {
     "end_time": "2024-06-29T13:39:09.034865Z",
     "start_time": "2024-06-29T13:39:07.351514Z"
    }
   },
   "source": [
    "!pip install kaggle"
   ],
   "outputs": [
    {
     "name": "stdout",
     "output_type": "stream",
     "text": [
      "Requirement already satisfied: kaggle in c:\\users\\green\\anaconda3\\envs\\tf\\lib\\site-packages (1.6.12)\n",
      "Requirement already satisfied: six>=1.10 in c:\\users\\green\\anaconda3\\envs\\tf\\lib\\site-packages (from kaggle) (1.16.0)\n",
      "Requirement already satisfied: certifi>=2023.7.22 in c:\\users\\green\\anaconda3\\envs\\tf\\lib\\site-packages (from kaggle) (2024.2.2)\n",
      "Requirement already satisfied: python-dateutil in c:\\users\\green\\anaconda3\\envs\\tf\\lib\\site-packages (from kaggle) (2.8.2)\n",
      "Requirement already satisfied: requests in c:\\users\\green\\anaconda3\\envs\\tf\\lib\\site-packages (from kaggle) (2.31.0)\n",
      "Requirement already satisfied: tqdm in c:\\users\\green\\anaconda3\\envs\\tf\\lib\\site-packages (from kaggle) (4.66.2)\n",
      "Requirement already satisfied: python-slugify in c:\\users\\green\\anaconda3\\envs\\tf\\lib\\site-packages (from kaggle) (8.0.4)\n",
      "Requirement already satisfied: urllib3 in c:\\users\\green\\anaconda3\\envs\\tf\\lib\\site-packages (from kaggle) (2.1.0)\n",
      "Requirement already satisfied: bleach in c:\\users\\green\\anaconda3\\envs\\tf\\lib\\site-packages (from kaggle) (4.1.0)\n",
      "Requirement already satisfied: packaging in c:\\users\\green\\anaconda3\\envs\\tf\\lib\\site-packages (from bleach->kaggle) (23.2)\n",
      "Requirement already satisfied: webencodings in c:\\users\\green\\anaconda3\\envs\\tf\\lib\\site-packages (from bleach->kaggle) (0.5.1)\n",
      "Requirement already satisfied: text-unidecode>=1.3 in c:\\users\\green\\anaconda3\\envs\\tf\\lib\\site-packages (from python-slugify->kaggle) (1.3)\n",
      "Requirement already satisfied: charset-normalizer<4,>=2 in c:\\users\\green\\anaconda3\\envs\\tf\\lib\\site-packages (from requests->kaggle) (2.0.4)\n",
      "Requirement already satisfied: idna<4,>=2.5 in c:\\users\\green\\anaconda3\\envs\\tf\\lib\\site-packages (from requests->kaggle) (3.4)\n",
      "Requirement already satisfied: colorama in c:\\users\\green\\anaconda3\\envs\\tf\\lib\\site-packages (from tqdm->kaggle) (0.4.6)\n"
     ]
    }
   ],
   "execution_count": 26
  },
  {
   "cell_type": "code",
   "id": "88e8d17f028b28bc",
   "metadata": {
    "ExecuteTime": {
     "end_time": "2024-06-29T13:39:13.329427Z",
     "start_time": "2024-06-29T13:39:13.314418Z"
    }
   },
   "source": [
    "kaggle_credentials = json.load(open(\"kaggle.json\"))"
   ],
   "outputs": [],
   "execution_count": 27
  },
  {
   "cell_type": "code",
   "id": "7d73bd9cf5258afc",
   "metadata": {
    "ExecuteTime": {
     "end_time": "2024-06-29T13:39:13.753248Z",
     "start_time": "2024-06-29T13:39:13.750249Z"
    }
   },
   "source": [
    "#kaggle API credentials\n",
    "os.environ['KAGGLE_USERNAME'] = kaggle_credentials[\"username\"]\n",
    "os.environ['KAGGLE_KEY'] = kaggle_credentials[\"key\"]"
   ],
   "outputs": [],
   "execution_count": 28
  },
  {
   "cell_type": "code",
   "id": "cffb033a88753071",
   "metadata": {
    "ExecuteTime": {
     "end_time": "2024-06-29T13:39:38.128960Z",
     "start_time": "2024-06-29T13:39:36.082447Z"
    }
   },
   "source": [
    "#downloads dataset from kaggle\n",
    "!kaggle datasets download -d vipoooool/new-plant-diseases-dataset"
   ],
   "outputs": [
    {
     "name": "stdout",
     "output_type": "stream",
     "text": [
      "Warning: Looks like you're using an outdated API Version, please consider updating (server 1.6.14 / client 1.6.12)\n",
      "Dataset URL: https://www.kaggle.com/datasets/vipoooool/new-plant-diseases-dataset\n",
      "License(s): copyright-authors\n",
      "new-plant-diseases-dataset.zip: Skipping, found more recently modified local copy (use --force to force download)\n"
     ]
    }
   ],
   "execution_count": 30
  },
  {
   "cell_type": "code",
   "id": "1be50b2ba31ae77d",
   "metadata": {
    "ExecuteTime": {
     "end_time": "2024-06-29T13:40:03.838692Z",
     "start_time": "2024-06-29T13:39:57.911073Z"
    }
   },
   "source": [
    "#unzip dataset\n",
    "with ZipFile(\"new-plant-diseases-dataset.zip\", 'r') as zip_ref:\n",
    "    zip_ref.extractall()"
   ],
   "outputs": [
    {
     "ename": "KeyboardInterrupt",
     "evalue": "",
     "output_type": "error",
     "traceback": [
      "\u001B[1;31m---------------------------------------------------------------------------\u001B[0m",
      "\u001B[1;31mKeyboardInterrupt\u001B[0m                         Traceback (most recent call last)",
      "Cell \u001B[1;32mIn[31], line 3\u001B[0m\n\u001B[0;32m      1\u001B[0m \u001B[38;5;66;03m#unzip dataset\u001B[39;00m\n\u001B[0;32m      2\u001B[0m \u001B[38;5;28;01mwith\u001B[39;00m ZipFile(\u001B[38;5;124m\"\u001B[39m\u001B[38;5;124mnew-plant-diseases-dataset.zip\u001B[39m\u001B[38;5;124m\"\u001B[39m, \u001B[38;5;124m'\u001B[39m\u001B[38;5;124mr\u001B[39m\u001B[38;5;124m'\u001B[39m) \u001B[38;5;28;01mas\u001B[39;00m zip_ref:\n\u001B[1;32m----> 3\u001B[0m     \u001B[43mzip_ref\u001B[49m\u001B[38;5;241;43m.\u001B[39;49m\u001B[43mextractall\u001B[49m\u001B[43m(\u001B[49m\u001B[43m)\u001B[49m\n",
      "File \u001B[1;32m~\\anaconda3\\envs\\tf\\lib\\zipfile.py:1654\u001B[0m, in \u001B[0;36mZipFile.extractall\u001B[1;34m(self, path, members, pwd)\u001B[0m\n\u001B[0;32m   1651\u001B[0m     path \u001B[38;5;241m=\u001B[39m os\u001B[38;5;241m.\u001B[39mfspath(path)\n\u001B[0;32m   1653\u001B[0m \u001B[38;5;28;01mfor\u001B[39;00m zipinfo \u001B[38;5;129;01min\u001B[39;00m members:\n\u001B[1;32m-> 1654\u001B[0m     \u001B[38;5;28;43mself\u001B[39;49m\u001B[38;5;241;43m.\u001B[39;49m\u001B[43m_extract_member\u001B[49m\u001B[43m(\u001B[49m\u001B[43mzipinfo\u001B[49m\u001B[43m,\u001B[49m\u001B[43m \u001B[49m\u001B[43mpath\u001B[49m\u001B[43m,\u001B[49m\u001B[43m \u001B[49m\u001B[43mpwd\u001B[49m\u001B[43m)\u001B[49m\n",
      "File \u001B[1;32m~\\anaconda3\\envs\\tf\\lib\\zipfile.py:1709\u001B[0m, in \u001B[0;36mZipFile._extract_member\u001B[1;34m(self, member, targetpath, pwd)\u001B[0m\n\u001B[0;32m   1705\u001B[0m     \u001B[38;5;28;01mreturn\u001B[39;00m targetpath\n\u001B[0;32m   1707\u001B[0m \u001B[38;5;28;01mwith\u001B[39;00m \u001B[38;5;28mself\u001B[39m\u001B[38;5;241m.\u001B[39mopen(member, pwd\u001B[38;5;241m=\u001B[39mpwd) \u001B[38;5;28;01mas\u001B[39;00m source, \\\n\u001B[0;32m   1708\u001B[0m      \u001B[38;5;28mopen\u001B[39m(targetpath, \u001B[38;5;124m\"\u001B[39m\u001B[38;5;124mwb\u001B[39m\u001B[38;5;124m\"\u001B[39m) \u001B[38;5;28;01mas\u001B[39;00m target:\n\u001B[1;32m-> 1709\u001B[0m     \u001B[43mshutil\u001B[49m\u001B[38;5;241;43m.\u001B[39;49m\u001B[43mcopyfileobj\u001B[49m\u001B[43m(\u001B[49m\u001B[43msource\u001B[49m\u001B[43m,\u001B[49m\u001B[43m \u001B[49m\u001B[43mtarget\u001B[49m\u001B[43m)\u001B[49m\n\u001B[0;32m   1711\u001B[0m \u001B[38;5;28;01mreturn\u001B[39;00m targetpath\n",
      "File \u001B[1;32m~\\anaconda3\\envs\\tf\\lib\\shutil.py:208\u001B[0m, in \u001B[0;36mcopyfileobj\u001B[1;34m(fsrc, fdst, length)\u001B[0m\n\u001B[0;32m    206\u001B[0m \u001B[38;5;28;01mif\u001B[39;00m \u001B[38;5;129;01mnot\u001B[39;00m buf:\n\u001B[0;32m    207\u001B[0m     \u001B[38;5;28;01mbreak\u001B[39;00m\n\u001B[1;32m--> 208\u001B[0m \u001B[43mfdst_write\u001B[49m\u001B[43m(\u001B[49m\u001B[43mbuf\u001B[49m\u001B[43m)\u001B[49m\n",
      "\u001B[1;31mKeyboardInterrupt\u001B[0m: "
     ]
    }
   ],
   "execution_count": 31
  },
  {
   "cell_type": "markdown",
   "id": "1cb78778bb775d16",
   "metadata": {},
   "source": [
    "<H4>Data Preprocessing\n",
    "<H5> Training set preprocessing"
   ]
  },
  {
   "cell_type": "code",
   "id": "874918d1d0776ac0",
   "metadata": {
    "ExecuteTime": {
     "end_time": "2024-06-29T13:41:36.746451Z",
     "start_time": "2024-06-29T13:41:31.049797Z"
    }
   },
   "source": [
    "training_set = keras.utils.image_dataset_from_directory(\n",
    "    'New Plant Diseases Dataset(Augmented)/train',\n",
    "    labels=\"inferred\",\n",
    "    label_mode=\"categorical\",\n",
    "    class_names=None,\n",
    "    color_mode=\"rgb\",\n",
    "    batch_size=32,\n",
    "    image_size=(256, 256),\n",
    "    shuffle=True,\n",
    "    seed=None,\n",
    "    validation_split=None,\n",
    "    subset=None,\n",
    "    interpolation=\"bilinear\",\n",
    "    follow_links=False,\n",
    "    crop_to_aspect_ratio=False\n",
    ")"
   ],
   "outputs": [
    {
     "name": "stdout",
     "output_type": "stream",
     "text": [
      "Found 70295 files belonging to 38 classes.\n"
     ]
    }
   ],
   "execution_count": 35
  },
  {
   "cell_type": "markdown",
   "id": "4e8572d8b99dae99",
   "metadata": {},
   "source": [
    "<H4> Validation set processing "
   ]
  },
  {
   "cell_type": "code",
   "execution_count": null,
   "id": "6c5b5dc1f7d51c84",
   "metadata": {},
   "outputs": [],
   "source": [
    "for x,y in training_set:\n",
    "    print(x,x.shape)\n",
    "    print(y,y.shape)\n",
    "    break"
   ]
  },
  {
   "cell_type": "code",
   "id": "dc6e7843103aa18c",
   "metadata": {
    "ExecuteTime": {
     "end_time": "2024-06-29T13:42:00.318572Z",
     "start_time": "2024-06-29T13:41:59.188189Z"
    }
   },
   "source": [
    "validation_set = keras.utils.image_dataset_from_directory(\n",
    "    'New Plant Diseases Dataset(Augmented)/valid',\n",
    "    labels=\"inferred\",\n",
    "    label_mode=\"categorical\",\n",
    "    class_names=None,\n",
    "    color_mode=\"rgb\",\n",
    "    batch_size=32,\n",
    "    image_size=(256, 256),\n",
    "    shuffle=True,\n",
    "    seed=None,\n",
    "    validation_split=None,\n",
    "    subset=None,\n",
    "    interpolation=\"bilinear\",\n",
    "    follow_links=False,\n",
    "    crop_to_aspect_ratio=False\n",
    ")"
   ],
   "outputs": [
    {
     "name": "stdout",
     "output_type": "stream",
     "text": [
      "Found 17572 files belonging to 38 classes.\n"
     ]
    }
   ],
   "execution_count": 36
  },
  {
   "cell_type": "markdown",
   "id": "dd07b8cbaa36329b",
   "metadata": {},
   "source": [
    "<h4> Building convolutional neural network"
   ]
  },
  {
   "cell_type": "code",
   "execution_count": null,
   "id": "b2cf9a983ac4a609",
   "metadata": {},
   "outputs": [],
   "source": [
    "from tensorflow.keras.layers import Dense, Conv2D, MaxPool2D, Flatten, Dropout\n",
    "from tensorflow.keras.models import Sequential"
   ]
  },
  {
   "cell_type": "code",
   "execution_count": null,
   "id": "55a8741bdd267c7e",
   "metadata": {},
   "outputs": [],
   "source": [
    "#definition of the model\n",
    "model = Sequential()\n",
    "\n",
    "model.add(Conv2D(filters=32, kernel_size=3, padding='same', activation = 'relu', input_shape=[256, 256, 3]))\n",
    "model.add(Conv2D(32, (3, 3), activation = 'relu'))\n",
    "model.add(MaxPool2D(pool_size=2, strides=2))\n",
    "\n",
    "model.add(Conv2D(filters=64, kernel_size=3, padding='same', activation = 'relu'))\n",
    "model.add(Conv2D(64,(3, 3), activation='relu'))\n",
    "model.add(MaxPool2D(2, 2))\n",
    "\n",
    "model.add(Conv2D(filters=128, kernel_size=3, padding='same', activation = 'relu'))\n",
    "model.add(Conv2D(128,(3, 3), activation='relu'))\n",
    "model.add(MaxPool2D(2, 2))\n",
    "\n",
    "model.add(Conv2D(filters=256, kernel_size=3, padding='same',activation = 'relu'))\n",
    "model.add(Conv2D(256,(3, 3), activation='relu'))\n",
    "model.add(MaxPool2D(2, 2))\n",
    "\n",
    "model.add(Conv2D(filters=512, kernel_size=3, activation = 'relu'))\n",
    "model.add(Conv2D(512,(3, 3), activation='relu'))\n",
    "model.add(MaxPool2D(2, 2))\n",
    "\n",
    "model.add(Dropout(0.25))\n",
    "\n",
    "#flattens to one dimension array for the output layers\n",
    "model.add(Flatten())\n",
    "model.add(Dense(units=1500, activation='relu'))\n",
    "\n",
    "model.add(Dropout(0.4))\n",
    "\n",
    "#output layer\n",
    "model.add(Dense(units=38, activation='softmax'))"
   ]
  },
  {
   "cell_type": "markdown",
   "id": "d8c940b9de3b1dc8",
   "metadata": {},
   "source": [
    "<h4> Compile model"
   ]
  },
  {
   "cell_type": "code",
   "execution_count": null,
   "id": "8fe18c66b793cc01",
   "metadata": {},
   "outputs": [],
   "source": [
    "model.compile(optimizer=tf.keras.optimizers.Adam(learning_rate=0.0001), loss='categorical_crossentropy', metrics=['accuracy'])"
   ]
  },
  {
   "cell_type": "code",
   "execution_count": null,
   "id": "b09a643eb3e9c4a",
   "metadata": {},
   "outputs": [],
   "source": [
    "model.summary()"
   ]
  },
  {
   "cell_type": "markdown",
   "id": "d503fc762084d53f",
   "metadata": {},
   "source": [
    "<H4> Model training"
   ]
  },
  {
   "cell_type": "code",
   "execution_count": null,
   "id": "3114e0c279593dbd",
   "metadata": {},
   "outputs": [],
   "source": [
    "training_history = model.fit(x=training_set, validation_data=validation_set, epochs=5)"
   ]
  },
  {
   "cell_type": "markdown",
   "id": "59f0bb546f332ca2",
   "metadata": {},
   "source": [
    "<H4> Model evaluation"
   ]
  },
  {
   "cell_type": "code",
   "execution_count": null,
   "id": "5174c3193ac8e975",
   "metadata": {},
   "outputs": [],
   "source": [
    "train_loss, train_accuracy = model.evaluate(training_set)"
   ]
  },
  {
   "cell_type": "code",
   "execution_count": null,
   "id": "9ba5f670f0a26cd3",
   "metadata": {},
   "outputs": [],
   "source": [
    "print(train_loss, train_accuracy)"
   ]
  },
  {
   "cell_type": "code",
   "execution_count": null,
   "id": "cd53e91e933da85a",
   "metadata": {},
   "outputs": [],
   "source": [
    "validation_loss, validation_accuracy = model.evaluate(validation_set)"
   ]
  },
  {
   "cell_type": "code",
   "execution_count": null,
   "id": "debeb6dbf00fcb91",
   "metadata": {},
   "outputs": [],
   "source": [
    "print(validation_loss, validation_accuracy)"
   ]
  },
  {
   "cell_type": "markdown",
   "id": "5a9c62b89500b223",
   "metadata": {},
   "source": [
    "<H4> Save model"
   ]
  },
  {
   "cell_type": "code",
   "execution_count": null,
   "id": "1fa8875cc9e421a3",
   "metadata": {},
   "outputs": [],
   "source": [
    "from keras import Model\n",
    "\n",
    "model.save(filepath=\"trained_model/trained_disease_detection.keras\", overwrite=True, save_format=\"keras\")"
   ]
  },
  {
   "cell_type": "code",
   "execution_count": null,
   "id": "b22085ee054b8f8c",
   "metadata": {},
   "outputs": [],
   "source": [
    "training_history.history"
   ]
  },
  {
   "cell_type": "markdown",
   "id": "cc4e77c1cd8f6f57",
   "metadata": {},
   "source": [
    "<h5> Recording history in JSON"
   ]
  },
  {
   "cell_type": "code",
   "execution_count": null,
   "id": "48ad95b6b101801c",
   "metadata": {},
   "outputs": [],
   "source": [
    "import json\n",
    "with open(\"training_history.json\", \"w\") as f:\n",
    "    json.dump(training_history.history, f)"
   ]
  },
  {
   "cell_type": "markdown",
   "id": "8e25518a36a7e2f1",
   "metadata": {},
   "source": [
    "<H4> Visualizations and Metrics"
   ]
  },
  {
   "cell_type": "code",
   "execution_count": null,
   "id": "db644cdf32fe7d95",
   "metadata": {},
   "outputs": [],
   "source": [
    "epochs = [i for i in range(1,6)]\n",
    "plt.plot(epochs, training_history.history['accuracy'], color='green', label=\"training accuracy\")\n",
    "plt.plot(epochs, training_history.history['val_accuracy'], color='red', label=\"validation accuracy\")\n",
    "plt.xlabel(\"Number of epochs\")\n",
    "plt.ylabel(\"Accuracy\")\n",
    "plt.title(\"Accuracy per Epoch\")\n",
    "plt.legend()\n",
    "plt.show()"
   ]
  },
  {
   "cell_type": "code",
   "execution_count": null,
   "id": "996b221224dce42e",
   "metadata": {},
   "outputs": [],
   "source": [
    "class_name = validation_set.class_names\n",
    "class_name"
   ]
  },
  {
   "cell_type": "code",
   "execution_count": null,
   "id": "7cff31e10287b9d8",
   "metadata": {},
   "outputs": [],
   "source": [
    "test_set = keras.utils.image_dataset_from_directory(\n",
    "    'Plant_Diseases_Dataset/valid',\n",
    "    labels=\"inferred\",\n",
    "    label_mode=\"categorical\",\n",
    "    class_names=None,\n",
    "    color_mode=\"rgb\",\n",
    "    batch_size=32,\n",
    "    image_size=(256, 256),\n",
    "    shuffle=False,\n",
    "    seed=None,\n",
    "    validation_split=None,\n",
    "    subset=None,\n",
    "    interpolation=\"bilinear\",\n",
    "    follow_links=False,\n",
    "    crop_to_aspect_ratio=False\n",
    ") "
   ]
  },
  {
   "cell_type": "code",
   "execution_count": null,
   "id": "1ad0484be3c9d82a",
   "metadata": {},
   "outputs": [],
   "source": [
    "y_pred = model.predict(test_set)\n",
    "y_pred"
   ]
  },
  {
   "cell_type": "code",
   "execution_count": null,
   "id": "ae3a4d3c2a87d581",
   "metadata": {},
   "outputs": [],
   "source": [
    "predicted_cats = tf.argmax(y_pred, axis=1)"
   ]
  },
  {
   "cell_type": "code",
   "execution_count": null,
   "id": "e50387f132fc6ba8",
   "metadata": {},
   "outputs": [],
   "source": [
    "true_cats = tf.concat([y for x,y in test_set], axis=0)\n",
    "true_cats"
   ]
  },
  {
   "cell_type": "code",
   "execution_count": null,
   "id": "f503c1acd86eba12",
   "metadata": {},
   "outputs": [],
   "source": [
    "Y_true = tf.argmax(true_cats, axis=1)\n",
    "Y_true"
   ]
  },
  {
   "cell_type": "code",
   "execution_count": null,
   "id": "f8be736b5eb39909",
   "metadata": {},
   "outputs": [],
   "source": [
    "from sklearn.metrics import classification_report, confusion_matrix\n"
   ]
  },
  {
   "cell_type": "code",
   "execution_count": null,
   "id": "c838783880175695",
   "metadata": {},
   "outputs": [],
   "source": [
    "print(classification_report(Y_true, predicted_cats, target_names=class_name))"
   ]
  },
  {
   "cell_type": "code",
   "execution_count": null,
   "id": "b02e86a61523ba4",
   "metadata": {},
   "outputs": [],
   "source": [
    "cm = confusion_matrix(Y_true, predicted_cats)\n",
    "cm"
   ]
  },
  {
   "cell_type": "code",
   "execution_count": null,
   "id": "af75bb933978f7cd",
   "metadata": {},
   "outputs": [],
   "source": [
    "from IPython.core.pylabtools import figsize\n",
    "\n",
    "plt.figure(figsize(40,40))\n",
    "sns.heatmap(cm, annot=True, annot_kws={'size':10})\n",
    "plt.xlabel(\"predicted class\", fontsize=20)\n",
    "plt.ylabel(\"true class\", fontsize=20)\n",
    "plt.title(\"Plant Disease Confusion Matrix\", fontsize=25)\n",
    "plt.show()"
   ]
  },
  {
   "cell_type": "code",
   "execution_count": null,
   "id": "5873edf56851d807",
   "metadata": {},
   "outputs": [],
   "source": []
  }
 ],
 "metadata": {
  "kernelspec": {
   "display_name": "Python 3 (ipykernel)",
   "language": "python",
   "name": "python3"
  },
  "language_info": {
   "codemirror_mode": {
    "name": "ipython",
    "version": 3
   },
   "file_extension": ".py",
   "mimetype": "text/x-python",
   "name": "python",
   "nbconvert_exporter": "python",
   "pygments_lexer": "ipython3",
   "version": "3.9.19"
  }
 },
 "nbformat": 4,
 "nbformat_minor": 5
}
