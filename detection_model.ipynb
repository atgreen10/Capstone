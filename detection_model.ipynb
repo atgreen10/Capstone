{
 "cells": [
  {
   "cell_type": "code",
   "id": "ecee5a33",
   "metadata": {
    "ExecuteTime": {
     "end_time": "2024-05-15T03:56:58.487661Z",
     "start_time": "2024-05-15T03:56:56.084640Z"
    }
   },
   "source": [
    "import tensorflow as tf\n",
    "import matplotlib.pyplot as plt\n",
    "import pandas as pd\n",
    "import seaborn as sns\n",
    "import tensorflow.keras as keras\n",
    "import json\n",
    "import os\n",
    "from zipfile import ZipFile"
   ],
   "outputs": [],
   "execution_count": 2
  },
  {
   "metadata": {
    "ExecuteTime": {
     "end_time": "2024-05-15T03:57:01.816292Z",
     "start_time": "2024-05-15T03:57:01.779292Z"
    }
   },
   "cell_type": "code",
   "source": [
    "print(tf.config.list_physical_devices('GPU'))\n",
    "print(\"Num GPUs Available: \", len(tf.config.list_physical_devices('GPU')))\n",
    "\n",
    "print(tf.test.is_built_with_cuda())\n",
    "print(tf.config.list_physical_devices('GPU'))"
   ],
   "id": "c1e0387f8154896",
   "outputs": [
    {
     "name": "stdout",
     "output_type": "stream",
     "text": [
      "[PhysicalDevice(name='/physical_device:GPU:0', device_type='GPU')]\n",
      "Num GPUs Available:  1\n",
      "True\n",
      "[PhysicalDevice(name='/physical_device:GPU:0', device_type='GPU')]\n"
     ]
    }
   ],
   "execution_count": 3
  },
  {
   "metadata": {},
   "cell_type": "code",
   "source": "!pip install kaggle",
   "id": "dec0b4a7185255df",
   "outputs": [],
   "execution_count": null
  },
  {
   "metadata": {},
   "cell_type": "code",
   "source": "kaggle_credentials = json.load(open(\"kaggle.json\"))",
   "id": "88e8d17f028b28bc",
   "outputs": [],
   "execution_count": null
  },
  {
   "metadata": {},
   "cell_type": "code",
   "source": [
    "#kaggle API credentials\n",
    "os.environ['KAGGLE_USERNAME'] = kaggle_credentials[\"username\"]\n",
    "os.environ['KAGGLE_KEY'] = kaggle_credentials[\"key\"]"
   ],
   "id": "7d73bd9cf5258afc",
   "outputs": [],
   "execution_count": null
  },
  {
   "metadata": {},
   "cell_type": "code",
   "source": [
    "#downloads dataset from kaggle\n",
    "!kaggle datasets download -d vipoooool/new-plant-diseases-dataset"
   ],
   "id": "cffb033a88753071",
   "outputs": [],
   "execution_count": null
  },
  {
   "metadata": {},
   "cell_type": "code",
   "source": [
    "#unzip dataset\n",
    "with ZipFile(\"new-plant-diseases-dataset.zip\", 'r') as zip_ref:\n",
    "    zip_ref.extractall()"
   ],
   "id": "1be50b2ba31ae77d",
   "outputs": [],
   "execution_count": null
  },
  {
   "metadata": {},
   "cell_type": "markdown",
   "source": [
    "<H4>Data Preprocessing\n",
    "<H5> Training set preprocessing"
   ],
   "id": "1cb78778bb775d16"
  },
  {
   "metadata": {
    "ExecuteTime": {
     "end_time": "2024-05-12T16:20:00.424235Z",
     "start_time": "2024-05-12T16:19:54.138831Z"
    }
   },
   "cell_type": "code",
   "source": [
    "training_set = keras.utils.image_dataset_from_directory(\n",
    "    'Plant_Diseases_Dataset/train',\n",
    "    labels=\"inferred\",\n",
    "    label_mode=\"categorical\",\n",
    "    class_names=None,\n",
    "    color_mode=\"rgb\",\n",
    "    batch_size=32,\n",
    "    image_size=(256, 256),\n",
    "    shuffle=True,\n",
    "    seed=None,\n",
    "    validation_split=None,\n",
    "    subset=None,\n",
    "    interpolation=\"bilinear\",\n",
    "    follow_links=False,\n",
    "    crop_to_aspect_ratio=False\n",
    ")"
   ],
   "id": "874918d1d0776ac0",
   "outputs": [
    {
     "name": "stdout",
     "output_type": "stream",
     "text": [
      "Found 70295 files belonging to 38 classes.\n"
     ]
    }
   ],
   "execution_count": 4
  },
  {
   "metadata": {},
   "cell_type": "markdown",
   "source": "<H4> Validation set processing ",
   "id": "4e8572d8b99dae99"
  },
  {
   "metadata": {
    "ExecuteTime": {
     "end_time": "2024-05-12T16:20:00.629564Z",
     "start_time": "2024-05-12T16:20:00.426235Z"
    }
   },
   "cell_type": "code",
   "source": [
    "for x,y in training_set:\n",
    "    print(x,x.shape)\n",
    "    print(y,y.shape)\n",
    "    break"
   ],
   "id": "6c5b5dc1f7d51c84",
   "outputs": [
    {
     "name": "stdout",
     "output_type": "stream",
     "text": [
      "tf.Tensor(\n",
      "[[[[134. 132. 146.]\n",
      "   [132. 130. 144.]\n",
      "   [131. 129. 143.]\n",
      "   ...\n",
      "   [ 96.  97. 118.]\n",
      "   [101. 102. 123.]\n",
      "   [106. 107. 128.]]\n",
      "\n",
      "  [[134. 132. 146.]\n",
      "   [133. 131. 145.]\n",
      "   [131. 129. 143.]\n",
      "   ...\n",
      "   [ 97.  98. 119.]\n",
      "   [100. 101. 122.]\n",
      "   [104. 105. 126.]]\n",
      "\n",
      "  [[137. 135. 149.]\n",
      "   [136. 134. 148.]\n",
      "   [134. 132. 146.]\n",
      "   ...\n",
      "   [ 99. 100. 121.]\n",
      "   [100. 101. 122.]\n",
      "   [102. 103. 124.]]\n",
      "\n",
      "  ...\n",
      "\n",
      "  [[109. 103. 117.]\n",
      "   [119. 113. 127.]\n",
      "   [ 95.  89. 103.]\n",
      "   ...\n",
      "   [132. 148. 112.]\n",
      "   [ 99. 116.  74.]\n",
      "   [101. 118.  73.]]\n",
      "\n",
      "  [[103.  97. 111.]\n",
      "   [ 93.  87. 101.]\n",
      "   [120. 114. 128.]\n",
      "   ...\n",
      "   [144. 159. 126.]\n",
      "   [ 98. 114.  75.]\n",
      "   [ 91. 108.  64.]]\n",
      "\n",
      "  [[120. 114. 128.]\n",
      "   [101.  95. 109.]\n",
      "   [ 85.  79.  93.]\n",
      "   ...\n",
      "   [ 94. 109.  76.]\n",
      "   [117. 133.  96.]\n",
      "   [100. 117.  75.]]]\n",
      "\n",
      "\n",
      " [[[146. 147. 167.]\n",
      "   [126. 127. 147.]\n",
      "   [138. 139. 159.]\n",
      "   ...\n",
      "   [119. 119. 147.]\n",
      "   [117. 117. 145.]\n",
      "   [117. 117. 145.]]\n",
      "\n",
      "  [[139. 140. 160.]\n",
      "   [136. 137. 157.]\n",
      "   [150. 151. 171.]\n",
      "   ...\n",
      "   [125. 125. 153.]\n",
      "   [125. 125. 153.]\n",
      "   [125. 125. 153.]]\n",
      "\n",
      "  [[136. 137. 157.]\n",
      "   [151. 152. 172.]\n",
      "   [159. 160. 180.]\n",
      "   ...\n",
      "   [131. 131. 159.]\n",
      "   [131. 131. 159.]\n",
      "   [131. 131. 159.]]\n",
      "\n",
      "  ...\n",
      "\n",
      "  [[ 88.  88. 116.]\n",
      "   [ 89.  89. 117.]\n",
      "   [132. 132. 160.]\n",
      "   ...\n",
      "   [132. 135. 166.]\n",
      "   [133. 136. 167.]\n",
      "   [134. 137. 168.]]\n",
      "\n",
      "  [[107. 107. 135.]\n",
      "   [ 98.  98. 126.]\n",
      "   [121. 121. 149.]\n",
      "   ...\n",
      "   [131. 134. 165.]\n",
      "   [133. 136. 167.]\n",
      "   [135. 138. 169.]]\n",
      "\n",
      "  [[106. 106. 134.]\n",
      "   [137. 137. 165.]\n",
      "   [113. 113. 141.]\n",
      "   ...\n",
      "   [129. 132. 163.]\n",
      "   [131. 134. 165.]\n",
      "   [133. 136. 167.]]]\n",
      "\n",
      "\n",
      " [[[156. 147. 152.]\n",
      "   [156. 147. 152.]\n",
      "   [156. 147. 152.]\n",
      "   ...\n",
      "   [141. 129. 133.]\n",
      "   [142. 130. 134.]\n",
      "   [144. 132. 136.]]\n",
      "\n",
      "  [[160. 151. 156.]\n",
      "   [159. 150. 155.]\n",
      "   [156. 147. 152.]\n",
      "   ...\n",
      "   [140. 128. 132.]\n",
      "   [141. 129. 133.]\n",
      "   [143. 131. 135.]]\n",
      "\n",
      "  [[161. 152. 157.]\n",
      "   [158. 149. 154.]\n",
      "   [155. 146. 151.]\n",
      "   ...\n",
      "   [138. 126. 130.]\n",
      "   [139. 127. 131.]\n",
      "   [141. 129. 133.]]\n",
      "\n",
      "  ...\n",
      "\n",
      "  [[145. 132. 141.]\n",
      "   [146. 133. 142.]\n",
      "   [147. 134. 143.]\n",
      "   ...\n",
      "   [135. 115. 126.]\n",
      "   [138. 118. 129.]\n",
      "   [139. 119. 130.]]\n",
      "\n",
      "  [[145. 132. 141.]\n",
      "   [146. 133. 142.]\n",
      "   [147. 134. 143.]\n",
      "   ...\n",
      "   [135. 115. 126.]\n",
      "   [138. 118. 129.]\n",
      "   [140. 120. 131.]]\n",
      "\n",
      "  [[145. 132. 141.]\n",
      "   [146. 133. 142.]\n",
      "   [147. 134. 143.]\n",
      "   ...\n",
      "   [138. 118. 129.]\n",
      "   [141. 121. 132.]\n",
      "   [143. 123. 134.]]]\n",
      "\n",
      "\n",
      " ...\n",
      "\n",
      "\n",
      " [[[  0.   0.   0.]\n",
      "   [  0.   0.   0.]\n",
      "   [  0.   0.   0.]\n",
      "   ...\n",
      "   [  0.   0.   0.]\n",
      "   [  0.   0.   0.]\n",
      "   [  0.   0.   0.]]\n",
      "\n",
      "  [[  0.   0.   0.]\n",
      "   [  0.   0.   0.]\n",
      "   [  0.   0.   0.]\n",
      "   ...\n",
      "   [  0.   0.   0.]\n",
      "   [  0.   0.   0.]\n",
      "   [  0.   0.   0.]]\n",
      "\n",
      "  [[  0.   0.   0.]\n",
      "   [  0.   0.   0.]\n",
      "   [  0.   0.   0.]\n",
      "   ...\n",
      "   [  0.   0.   0.]\n",
      "   [  0.   0.   0.]\n",
      "   [  0.   0.   0.]]\n",
      "\n",
      "  ...\n",
      "\n",
      "  [[  0.   0.   0.]\n",
      "   [  0.   0.   0.]\n",
      "   [  0.   0.   0.]\n",
      "   ...\n",
      "   [  0.   0.   0.]\n",
      "   [  0.   0.   0.]\n",
      "   [  0.   0.   0.]]\n",
      "\n",
      "  [[  0.   0.   0.]\n",
      "   [  0.   0.   0.]\n",
      "   [  0.   0.   0.]\n",
      "   ...\n",
      "   [  0.   0.   0.]\n",
      "   [  0.   0.   0.]\n",
      "   [  0.   0.   0.]]\n",
      "\n",
      "  [[  0.   0.   0.]\n",
      "   [  0.   0.   0.]\n",
      "   [  0.   0.   0.]\n",
      "   ...\n",
      "   [  0.   0.   0.]\n",
      "   [  0.   0.   0.]\n",
      "   [  0.   0.   0.]]]\n",
      "\n",
      "\n",
      " [[[161. 136. 116.]\n",
      "   [146. 121. 101.]\n",
      "   [165. 140. 120.]\n",
      "   ...\n",
      "   [192. 182. 170.]\n",
      "   [190. 180. 168.]\n",
      "   [206. 196. 184.]]\n",
      "\n",
      "  [[147. 122. 102.]\n",
      "   [139. 114.  94.]\n",
      "   [153. 128. 108.]\n",
      "   ...\n",
      "   [198. 188. 176.]\n",
      "   [199. 189. 177.]\n",
      "   [206. 196. 184.]]\n",
      "\n",
      "  [[143. 118.  98.]\n",
      "   [139. 114.  94.]\n",
      "   [143. 118.  98.]\n",
      "   ...\n",
      "   [200. 190. 178.]\n",
      "   [197. 187. 175.]\n",
      "   [196. 186. 174.]]\n",
      "\n",
      "  ...\n",
      "\n",
      "  [[134. 106.  85.]\n",
      "   [135. 107.  86.]\n",
      "   [136. 108.  87.]\n",
      "   ...\n",
      "   [160. 143. 123.]\n",
      "   [171. 154. 134.]\n",
      "   [183. 166. 146.]]\n",
      "\n",
      "  [[154. 126. 105.]\n",
      "   [147. 119.  98.]\n",
      "   [138. 110.  89.]\n",
      "   ...\n",
      "   [171. 154. 134.]\n",
      "   [176. 159. 139.]\n",
      "   [182. 165. 145.]]\n",
      "\n",
      "  [[135. 107.  86.]\n",
      "   [134. 106.  85.]\n",
      "   [135. 107.  86.]\n",
      "   ...\n",
      "   [177. 160. 140.]\n",
      "   [170. 153. 133.]\n",
      "   [165. 148. 128.]]]\n",
      "\n",
      "\n",
      " [[[ 93.  90. 107.]\n",
      "   [ 97.  94. 111.]\n",
      "   [102.  99. 116.]\n",
      "   ...\n",
      "   [160. 162. 175.]\n",
      "   [162. 164. 177.]\n",
      "   [168. 170. 183.]]\n",
      "\n",
      "  [[125. 122. 139.]\n",
      "   [120. 117. 134.]\n",
      "   [126. 123. 140.]\n",
      "   ...\n",
      "   [169. 171. 184.]\n",
      "   [169. 171. 184.]\n",
      "   [173. 175. 188.]]\n",
      "\n",
      "  [[ 97.  94. 111.]\n",
      "   [ 94.  91. 108.]\n",
      "   [119. 116. 133.]\n",
      "   ...\n",
      "   [162. 164. 177.]\n",
      "   [160. 162. 175.]\n",
      "   [161. 163. 176.]]\n",
      "\n",
      "  ...\n",
      "\n",
      "  [[116. 117. 135.]\n",
      "   [100. 101. 119.]\n",
      "   [114. 115. 133.]\n",
      "   ...\n",
      "   [142. 145. 162.]\n",
      "   [182. 185. 202.]\n",
      "   [151. 154. 171.]]\n",
      "\n",
      "  [[126. 127. 145.]\n",
      "   [106. 107. 125.]\n",
      "   [111. 112. 130.]\n",
      "   ...\n",
      "   [222. 225. 242.]\n",
      "   [149. 152. 169.]\n",
      "   [159. 162. 179.]]\n",
      "\n",
      "  [[104. 105. 123.]\n",
      "   [103. 104. 122.]\n",
      "   [119. 120. 138.]\n",
      "   ...\n",
      "   [113. 116. 133.]\n",
      "   [164. 167. 184.]\n",
      "   [144. 147. 164.]]]], shape=(32, 256, 256, 3), dtype=float32) (32, 256, 256, 3)\n",
      "tf.Tensor(\n",
      "[[0. 0. 0. ... 0. 0. 0.]\n",
      " [0. 0. 0. ... 0. 0. 0.]\n",
      " [0. 0. 0. ... 0. 0. 0.]\n",
      " ...\n",
      " [0. 0. 0. ... 0. 0. 0.]\n",
      " [0. 0. 0. ... 0. 0. 0.]\n",
      " [0. 0. 0. ... 0. 0. 0.]], shape=(32, 38), dtype=float32) (32, 38)\n"
     ]
    }
   ],
   "execution_count": 5
  },
  {
   "metadata": {
    "ExecuteTime": {
     "end_time": "2024-05-12T22:04:14.933552Z",
     "start_time": "2024-05-12T22:04:12.697224Z"
    }
   },
   "cell_type": "code",
   "source": [
    "validation_set = keras.utils.image_dataset_from_directory(\n",
    "    'Plant_Diseases_Dataset/valid',\n",
    "    labels=\"inferred\",\n",
    "    label_mode=\"categorical\",\n",
    "    class_names=None,\n",
    "    color_mode=\"rgb\",\n",
    "    batch_size=32,\n",
    "    image_size=(256, 256),\n",
    "    shuffle=True,\n",
    "    seed=None,\n",
    "    validation_split=None,\n",
    "    subset=None,\n",
    "    interpolation=\"bilinear\",\n",
    "    follow_links=False,\n",
    "    crop_to_aspect_ratio=False\n",
    ")"
   ],
   "id": "dc6e7843103aa18c",
   "outputs": [
    {
     "name": "stdout",
     "output_type": "stream",
     "text": [
      "Found 17572 files belonging to 38 classes.\n"
     ]
    }
   ],
   "execution_count": 3
  },
  {
   "metadata": {},
   "cell_type": "markdown",
   "source": "<h4> Building convolutional neural network",
   "id": "dd07b8cbaa36329b"
  },
  {
   "metadata": {
    "ExecuteTime": {
     "end_time": "2024-05-12T16:20:26.642813Z",
     "start_time": "2024-05-12T16:20:26.625816Z"
    }
   },
   "cell_type": "code",
   "source": [
    "from tensorflow.keras.layers import Dense, Conv2D, MaxPool2D, Flatten, Dropout\n",
    "from tensorflow.keras.models import Sequential"
   ],
   "id": "b2cf9a983ac4a609",
   "outputs": [],
   "execution_count": 9
  },
  {
   "metadata": {
    "ExecuteTime": {
     "end_time": "2024-05-12T16:20:27.837597Z",
     "start_time": "2024-05-12T16:20:27.729849Z"
    }
   },
   "cell_type": "code",
   "source": [
    "#definition of the model\n",
    "model = Sequential()\n",
    "\n",
    "model.add(Conv2D(filters=32, kernel_size=3, padding='same', activation = 'relu', input_shape=[256, 256, 3]))\n",
    "model.add(Conv2D(32, (3, 3), activation = 'relu'))\n",
    "model.add(MaxPool2D(pool_size=2, strides=2))\n",
    "\n",
    "model.add(Conv2D(filters=64, kernel_size=3, padding='same', activation = 'relu'))\n",
    "model.add(Conv2D(64,(3, 3), activation='relu'))\n",
    "model.add(MaxPool2D(2, 2))\n",
    "\n",
    "model.add(Conv2D(filters=128, kernel_size=3, padding='same', activation = 'relu'))\n",
    "model.add(Conv2D(128,(3, 3), activation='relu'))\n",
    "model.add(MaxPool2D(2, 2))\n",
    "\n",
    "model.add(Conv2D(filters=256, kernel_size=3, padding='same',activation = 'relu'))\n",
    "model.add(Conv2D(256,(3, 3), activation='relu'))\n",
    "model.add(MaxPool2D(2, 2))\n",
    "\n",
    "model.add(Conv2D(filters=512, kernel_size=3, activation = 'relu'))\n",
    "model.add(Conv2D(512,(3, 3), activation='relu'))\n",
    "model.add(MaxPool2D(2, 2))\n",
    "\n",
    "model.add(Dropout(0.25))\n",
    "\n",
    "#flattens to one dimension array for the output layers\n",
    "model.add(Flatten())\n",
    "model.add(Dense(units=1500, activation='relu'))\n",
    "\n",
    "model.add(Dropout(0.4))\n",
    "\n",
    "#output layer\n",
    "model.add(Dense(units=38, activation='softmax'))"
   ],
   "id": "55a8741bdd267c7e",
   "outputs": [],
   "execution_count": 10
  },
  {
   "metadata": {},
   "cell_type": "markdown",
   "source": "<h4> Compile model",
   "id": "d8c940b9de3b1dc8"
  },
  {
   "metadata": {
    "ExecuteTime": {
     "end_time": "2024-05-12T16:20:30.572791Z",
     "start_time": "2024-05-12T16:20:30.559721Z"
    }
   },
   "cell_type": "code",
   "source": "model.compile(optimizer=tf.keras.optimizers.Adam(learning_rate=0.0001), loss='categorical_crossentropy', metrics=['accuracy'])",
   "id": "8fe18c66b793cc01",
   "outputs": [],
   "execution_count": 11
  },
  {
   "metadata": {
    "ExecuteTime": {
     "end_time": "2024-05-12T16:20:31.120121Z",
     "start_time": "2024-05-12T16:20:31.093021Z"
    }
   },
   "cell_type": "code",
   "source": "model.summary()",
   "id": "b09a643eb3e9c4a",
   "outputs": [
    {
     "name": "stdout",
     "output_type": "stream",
     "text": [
      "Model: \"sequential_1\"\n",
      "_________________________________________________________________\n",
      " Layer (type)                Output Shape              Param #   \n",
      "=================================================================\n",
      " conv2d_10 (Conv2D)          (None, 256, 256, 32)      896       \n",
      "                                                                 \n",
      " conv2d_11 (Conv2D)          (None, 254, 254, 32)      9248      \n",
      "                                                                 \n",
      " max_pooling2d_5 (MaxPooling  (None, 127, 127, 32)     0         \n",
      " 2D)                                                             \n",
      "                                                                 \n",
      " conv2d_12 (Conv2D)          (None, 127, 127, 64)      18496     \n",
      "                                                                 \n",
      " conv2d_13 (Conv2D)          (None, 125, 125, 64)      36928     \n",
      "                                                                 \n",
      " max_pooling2d_6 (MaxPooling  (None, 62, 62, 64)       0         \n",
      " 2D)                                                             \n",
      "                                                                 \n",
      " conv2d_14 (Conv2D)          (None, 62, 62, 128)       73856     \n",
      "                                                                 \n",
      " conv2d_15 (Conv2D)          (None, 60, 60, 128)       147584    \n",
      "                                                                 \n",
      " max_pooling2d_7 (MaxPooling  (None, 30, 30, 128)      0         \n",
      " 2D)                                                             \n",
      "                                                                 \n",
      " conv2d_16 (Conv2D)          (None, 30, 30, 256)       295168    \n",
      "                                                                 \n",
      " conv2d_17 (Conv2D)          (None, 28, 28, 256)       590080    \n",
      "                                                                 \n",
      " max_pooling2d_8 (MaxPooling  (None, 14, 14, 256)      0         \n",
      " 2D)                                                             \n",
      "                                                                 \n",
      " conv2d_18 (Conv2D)          (None, 12, 12, 512)       1180160   \n",
      "                                                                 \n",
      " conv2d_19 (Conv2D)          (None, 10, 10, 512)       2359808   \n",
      "                                                                 \n",
      " max_pooling2d_9 (MaxPooling  (None, 5, 5, 512)        0         \n",
      " 2D)                                                             \n",
      "                                                                 \n",
      " dropout_2 (Dropout)         (None, 5, 5, 512)         0         \n",
      "                                                                 \n",
      " flatten_1 (Flatten)         (None, 12800)             0         \n",
      "                                                                 \n",
      " dense_2 (Dense)             (None, 1500)              19201500  \n",
      "                                                                 \n",
      " dropout_3 (Dropout)         (None, 1500)              0         \n",
      "                                                                 \n",
      " dense_3 (Dense)             (None, 38)                57038     \n",
      "                                                                 \n",
      "=================================================================\n",
      "Total params: 23,970,762\n",
      "Trainable params: 23,970,762\n",
      "Non-trainable params: 0\n",
      "_________________________________________________________________\n"
     ]
    }
   ],
   "execution_count": 12
  },
  {
   "metadata": {},
   "cell_type": "markdown",
   "source": "<H4> Model training",
   "id": "d503fc762084d53f"
  },
  {
   "metadata": {
    "ExecuteTime": {
     "end_time": "2024-05-12T16:46:55.941844Z",
     "start_time": "2024-05-12T16:20:34.564284Z"
    }
   },
   "cell_type": "code",
   "source": "training_history = model.fit(x=training_set, validation_data=validation_set, epochs=5)",
   "id": "3114e0c279593dbd",
   "outputs": [
    {
     "name": "stdout",
     "output_type": "stream",
     "text": [
      "Epoch 1/5\n",
      "2197/2197 [==============================] - 330s 145ms/step - loss: 1.1614 - accuracy: 0.6556 - val_loss: 0.5230 - val_accuracy: 0.8319\n",
      "Epoch 2/5\n",
      "2197/2197 [==============================] - 313s 142ms/step - loss: 0.3748 - accuracy: 0.8804 - val_loss: 0.2591 - val_accuracy: 0.9138\n",
      "Epoch 3/5\n",
      "2197/2197 [==============================] - 313s 142ms/step - loss: 0.2105 - accuracy: 0.9317 - val_loss: 0.1828 - val_accuracy: 0.9409\n",
      "Epoch 4/5\n",
      "2197/2197 [==============================] - 313s 142ms/step - loss: 0.1376 - accuracy: 0.9545 - val_loss: 0.1471 - val_accuracy: 0.9531\n",
      "Epoch 5/5\n",
      "2197/2197 [==============================] - 313s 142ms/step - loss: 0.1053 - accuracy: 0.9648 - val_loss: 0.2060 - val_accuracy: 0.9394\n"
     ]
    }
   ],
   "execution_count": 13
  },
  {
   "metadata": {},
   "cell_type": "markdown",
   "source": "<H4> Model evaluation",
   "id": "59f0bb546f332ca2"
  },
  {
   "metadata": {
    "ExecuteTime": {
     "end_time": "2024-05-12T19:00:15.114495Z",
     "start_time": "2024-05-12T18:58:45.070357Z"
    }
   },
   "cell_type": "code",
   "source": "train_loss, train_accuracy = model.evaluate(training_set)",
   "id": "5174c3193ac8e975",
   "outputs": [
    {
     "name": "stdout",
     "output_type": "stream",
     "text": [
      "2197/2197 [==============================] - 90s 41ms/step - loss: 0.0993 - accuracy: 0.9700\n"
     ]
    }
   ],
   "execution_count": 14
  },
  {
   "metadata": {
    "ExecuteTime": {
     "end_time": "2024-05-12T19:03:43.189073Z",
     "start_time": "2024-05-12T19:03:43.171565Z"
    }
   },
   "cell_type": "code",
   "source": "print(train_loss, train_accuracy)",
   "id": "9ba5f670f0a26cd3",
   "outputs": [
    {
     "name": "stdout",
     "output_type": "stream",
     "text": [
      "0.0992564857006073 0.9699978828430176\n"
     ]
    }
   ],
   "execution_count": 15
  },
  {
   "metadata": {
    "ExecuteTime": {
     "end_time": "2024-05-12T19:04:06.526835Z",
     "start_time": "2024-05-12T19:03:44.248001Z"
    }
   },
   "cell_type": "code",
   "source": "validation_loss, validation_accuracy = model.evaluate(validation_set)",
   "id": "cd53e91e933da85a",
   "outputs": [
    {
     "name": "stdout",
     "output_type": "stream",
     "text": [
      "550/550 [==============================] - 22s 40ms/step - loss: 0.2060 - accuracy: 0.9394\n"
     ]
    }
   ],
   "execution_count": 16
  },
  {
   "metadata": {
    "ExecuteTime": {
     "end_time": "2024-05-12T19:04:09.724323Z",
     "start_time": "2024-05-12T19:04:09.709904Z"
    }
   },
   "cell_type": "code",
   "source": "print(validation_loss, validation_accuracy)",
   "id": "debeb6dbf00fcb91",
   "outputs": [
    {
     "name": "stdout",
     "output_type": "stream",
     "text": [
      "0.20595890283584595 0.9394491314888\n"
     ]
    }
   ],
   "execution_count": 17
  },
  {
   "metadata": {},
   "cell_type": "markdown",
   "source": "<H4> Save model",
   "id": "5a9c62b89500b223"
  },
  {
   "metadata": {},
   "cell_type": "code",
   "source": [
    "from keras import Model\n",
    "\n",
    "model.save(filepath=\"trained_model/trained_disease_detection.keras\", overwrite=True, save_format=\"keras\")"
   ],
   "id": "1fa8875cc9e421a3",
   "outputs": [],
   "execution_count": null
  },
  {
   "metadata": {},
   "cell_type": "code",
   "source": "training_history.history",
   "id": "b22085ee054b8f8c",
   "outputs": [],
   "execution_count": null
  },
  {
   "metadata": {},
   "cell_type": "markdown",
   "source": "<h5> Recording history in JSON",
   "id": "cc4e77c1cd8f6f57"
  },
  {
   "metadata": {},
   "cell_type": "code",
   "source": [
    "import json\n",
    "with open(\"training_history.json\", \"w\") as f:\n",
    "    json.dump(training_history.history, f)"
   ],
   "id": "48ad95b6b101801c",
   "outputs": [],
   "execution_count": null
  },
  {
   "metadata": {},
   "cell_type": "markdown",
   "source": "<H4> Visualizations and Metrics",
   "id": "8e25518a36a7e2f1"
  },
  {
   "metadata": {
    "ExecuteTime": {
     "end_time": "2024-05-12T19:04:59.942636Z",
     "start_time": "2024-05-12T19:04:59.736522Z"
    }
   },
   "cell_type": "code",
   "source": [
    "epochs = [i for i in range(1,6)]\n",
    "plt.plot(epochs, training_history.history['accuracy'], color='green', label=\"training accuracy\")\n",
    "plt.plot(epochs, training_history.history['val_accuracy'], color='red', label=\"validation accuracy\")\n",
    "plt.xlabel(\"Number of epochs\")\n",
    "plt.ylabel(\"Accuracy\")\n",
    "plt.title(\"Accuracy per Epoch\")\n",
    "plt.legend()\n",
    "plt.show()"
   ],
   "id": "db644cdf32fe7d95",
   "outputs": [
    {
     "data": {
      "text/plain": [
       "<Figure size 640x480 with 1 Axes>"
      ],
      "image/png": "[encoded data removed]"
     },
     "metadata": {},
     "output_type": "display_data"
    }
   ],
   "execution_count": 18
  },
  {
   "metadata": {
    "ExecuteTime": {
     "end_time": "2024-05-12T22:04:20.411868Z",
     "start_time": "2024-05-12T22:04:20.397869Z"
    }
   },
   "cell_type": "code",
   "source": [
    "class_name = validation_set.class_names\n",
    "class_name"
   ],
   "id": "996b221224dce42e",
   "outputs": [
    {
     "data": {
      "text/plain": [
       "['Apple___Apple_scab',\n",
       " 'Apple___Black_rot',\n",
       " 'Apple___Cedar_apple_rust',\n",
       " 'Apple___healthy',\n",
       " 'Blueberry___healthy',\n",
       " 'Cherry_(including_sour)___Powdery_mildew',\n",
       " 'Cherry_(including_sour)___healthy',\n",
       " 'Corn_(maize)___Cercospora_leaf_spot Gray_leaf_spot',\n",
       " 'Corn_(maize)___Common_rust_',\n",
       " 'Corn_(maize)___Northern_Leaf_Blight',\n",
       " 'Corn_(maize)___healthy',\n",
       " 'Grape___Black_rot',\n",
       " 'Grape___Esca_(Black_Measles)',\n",
       " 'Grape___Leaf_blight_(Isariopsis_Leaf_Spot)',\n",
       " 'Grape___healthy',\n",
       " 'Orange___Haunglongbing_(Citrus_greening)',\n",
       " 'Peach___Bacterial_spot',\n",
       " 'Peach___healthy',\n",
       " 'Pepper,_bell___Bacterial_spot',\n",
       " 'Pepper,_bell___healthy',\n",
       " 'Potato___Early_blight',\n",
       " 'Potato___Late_blight',\n",
       " 'Potato___healthy',\n",
       " 'Raspberry___healthy',\n",
       " 'Soybean___healthy',\n",
       " 'Squash___Powdery_mildew',\n",
       " 'Strawberry___Leaf_scorch',\n",
       " 'Strawberry___healthy',\n",
       " 'Tomato___Bacterial_spot',\n",
       " 'Tomato___Early_blight',\n",
       " 'Tomato___Late_blight',\n",
       " 'Tomato___Leaf_Mold',\n",
       " 'Tomato___Septoria_leaf_spot',\n",
       " 'Tomato___Spider_mites Two-spotted_spider_mite',\n",
       " 'Tomato___Target_Spot',\n",
       " 'Tomato___Tomato_Yellow_Leaf_Curl_Virus',\n",
       " 'Tomato___Tomato_mosaic_virus',\n",
       " 'Tomato___healthy']"
      ]
     },
     "execution_count": 4,
     "metadata": {},
     "output_type": "execute_result"
    }
   ],
   "execution_count": 4
  },
  {
   "metadata": {
    "ExecuteTime": {
     "end_time": "2024-05-12T19:05:09.392780Z",
     "start_time": "2024-05-12T19:05:08.394867Z"
    }
   },
   "cell_type": "code",
   "source": [
    "test_set = keras.utils.image_dataset_from_directory(\n",
    "    'Plant_Diseases_Dataset/valid',\n",
    "    labels=\"inferred\",\n",
    "    label_mode=\"categorical\",\n",
    "    class_names=None,\n",
    "    color_mode=\"rgb\",\n",
    "    batch_size=32,\n",
    "    image_size=(256, 256),\n",
    "    shuffle=False,\n",
    "    seed=None,\n",
    "    validation_split=None,\n",
    "    subset=None,\n",
    "    interpolation=\"bilinear\",\n",
    "    follow_links=False,\n",
    "    crop_to_aspect_ratio=False\n",
    ") "
   ],
   "id": "7cff31e10287b9d8",
   "outputs": [
    {
     "name": "stdout",
     "output_type": "stream",
     "text": [
      "Found 17572 files belonging to 38 classes.\n"
     ]
    }
   ],
   "execution_count": 20
  },
  {
   "metadata": {
    "ExecuteTime": {
     "end_time": "2024-05-12T19:05:40.757677Z",
     "start_time": "2024-05-12T19:05:19.286761Z"
    }
   },
   "cell_type": "code",
   "source": [
    "y_pred = model.predict(test_set)\n",
    "y_pred"
   ],
   "id": "1ad0484be3c9d82a",
   "outputs": [
    {
     "name": "stdout",
     "output_type": "stream",
     "text": [
      "550/550 [==============================] - 21s 38ms/step\n"
     ]
    },
    {
     "data": {
      "text/plain": [
       "array([[9.9999976e-01, 2.1479817e-10, 2.1764862e-11, ..., 4.0047074e-14,\n",
       "        2.6858707e-14, 6.7043784e-12],\n",
       "       [9.9999928e-01, 3.9051645e-08, 2.0634217e-09, ..., 9.9249125e-13,\n",
       "        7.8203798e-12, 3.3260030e-09],\n",
       "       [1.0000000e+00, 1.5490571e-12, 1.2161223e-11, ..., 6.5261914e-16,\n",
       "        5.9049060e-15, 4.4358068e-12],\n",
       "       ...,\n",
       "       [6.5431395e-13, 8.1327116e-14, 5.6517763e-11, ..., 1.7088026e-12,\n",
       "        9.0340539e-13, 1.0000000e+00],\n",
       "       [4.6580784e-11, 9.7349281e-12, 7.2767625e-11, ..., 1.5809246e-11,\n",
       "        5.9474040e-12, 1.0000000e+00],\n",
       "       [1.6878902e-15, 7.5779928e-17, 1.2272403e-17, ..., 1.0062635e-16,\n",
       "        3.8233934e-12, 9.9999988e-01]], dtype=float32)"
      ]
     },
     "execution_count": 21,
     "metadata": {},
     "output_type": "execute_result"
    }
   ],
   "execution_count": 21
  },
  {
   "metadata": {
    "ExecuteTime": {
     "end_time": "2024-05-12T19:05:45.176685Z",
     "start_time": "2024-05-12T19:05:45.164822Z"
    }
   },
   "cell_type": "code",
   "source": "predicted_cats = tf.argmax(y_pred, axis=1)",
   "id": "ae3a4d3c2a87d581",
   "outputs": [],
   "execution_count": 22
  },
  {
   "metadata": {
    "ExecuteTime": {
     "end_time": "2024-05-12T19:05:52.782495Z",
     "start_time": "2024-05-12T19:05:47.254802Z"
    }
   },
   "cell_type": "code",
   "source": [
    "true_cats = tf.concat([y for x,y in test_set], axis=0)\n",
    "true_cats"
   ],
   "id": "e50387f132fc6ba8",
   "outputs": [
    {
     "data": {
      "text/plain": [
       "<tf.Tensor: shape=(17572, 38), dtype=float32, numpy=\n",
       "array([[1., 0., 0., ..., 0., 0., 0.],\n",
       "       [1., 0., 0., ..., 0., 0., 0.],\n",
       "       [1., 0., 0., ..., 0., 0., 0.],\n",
       "       ...,\n",
       "       [0., 0., 0., ..., 0., 0., 1.],\n",
       "       [0., 0., 0., ..., 0., 0., 1.],\n",
       "       [0., 0., 0., ..., 0., 0., 1.]], dtype=float32)>"
      ]
     },
     "execution_count": 23,
     "metadata": {},
     "output_type": "execute_result"
    }
   ],
   "execution_count": 23
  },
  {
   "metadata": {
    "ExecuteTime": {
     "end_time": "2024-05-12T19:06:39.500374Z",
     "start_time": "2024-05-12T19:06:39.493374Z"
    }
   },
   "cell_type": "code",
   "source": [
    "Y_true = tf.argmax(true_cats, axis=1)\n",
    "Y_true"
   ],
   "id": "f503c1acd86eba12",
   "outputs": [
    {
     "data": {
      "text/plain": [
       "<tf.Tensor: shape=(17572,), dtype=int64, numpy=array([ 0,  0,  0, ..., 37, 37, 37], dtype=int64)>"
      ]
     },
     "execution_count": 24,
     "metadata": {},
     "output_type": "execute_result"
    }
   ],
   "execution_count": 24
  },
  {
   "metadata": {
    "ExecuteTime": {
     "end_time": "2024-05-12T19:06:40.727253Z",
     "start_time": "2024-05-12T19:06:40.545113Z"
    }
   },
   "cell_type": "code",
   "source": "from sklearn.metrics import classification_report, confusion_matrix\n",
   "id": "f8be736b5eb39909",
   "outputs": [],
   "execution_count": 25
  },
  {
   "metadata": {
    "ExecuteTime": {
     "end_time": "2024-05-12T19:06:42.134905Z",
     "start_time": "2024-05-12T19:06:42.117157Z"
    }
   },
   "cell_type": "code",
   "source": "print(classification_report(Y_true, predicted_cats, target_names=class_name))",
   "id": "c838783880175695",
   "outputs": [
    {
     "name": "stdout",
     "output_type": "stream",
     "text": [
      "                                                    precision    recall  f1-score   support\n",
      "\n",
      "                                Apple___Apple_scab       0.96      0.93      0.94       504\n",
      "                                 Apple___Black_rot       1.00      0.98      0.99       497\n",
      "                          Apple___Cedar_apple_rust       0.97      0.98      0.98       440\n",
      "                                   Apple___healthy       0.96      0.93      0.95       502\n",
      "                               Blueberry___healthy       0.98      0.98      0.98       454\n",
      "          Cherry_(including_sour)___Powdery_mildew       0.94      0.99      0.96       421\n",
      "                 Cherry_(including_sour)___healthy       0.97      0.99      0.98       456\n",
      "Corn_(maize)___Cercospora_leaf_spot Gray_leaf_spot       0.81      0.96      0.88       410\n",
      "                       Corn_(maize)___Common_rust_       0.99      0.99      0.99       477\n",
      "               Corn_(maize)___Northern_Leaf_Blight       0.97      0.81      0.88       477\n",
      "                            Corn_(maize)___healthy       0.98      0.98      0.98       465\n",
      "                                 Grape___Black_rot       0.96      0.94      0.95       472\n",
      "                      Grape___Esca_(Black_Measles)       0.95      0.99      0.97       480\n",
      "        Grape___Leaf_blight_(Isariopsis_Leaf_Spot)       0.99      0.99      0.99       430\n",
      "                                   Grape___healthy       1.00      0.99      1.00       423\n",
      "          Orange___Haunglongbing_(Citrus_greening)       0.98      0.99      0.99       503\n",
      "                            Peach___Bacterial_spot       0.99      0.88      0.93       459\n",
      "                                   Peach___healthy       0.97      0.99      0.98       432\n",
      "                     Pepper,_bell___Bacterial_spot       0.99      0.92      0.95       478\n",
      "                            Pepper,_bell___healthy       0.97      0.91      0.94       497\n",
      "                             Potato___Early_blight       0.98      0.99      0.99       485\n",
      "                              Potato___Late_blight       0.96      0.94      0.95       485\n",
      "                                  Potato___healthy       0.95      0.95      0.95       456\n",
      "                               Raspberry___healthy       0.89      1.00      0.94       445\n",
      "                                 Soybean___healthy       0.98      0.97      0.98       505\n",
      "                           Squash___Powdery_mildew       0.94      0.98      0.96       434\n",
      "                          Strawberry___Leaf_scorch       1.00      0.96      0.98       444\n",
      "                              Strawberry___healthy       0.97      1.00      0.98       456\n",
      "                           Tomato___Bacterial_spot       0.95      0.95      0.95       425\n",
      "                             Tomato___Early_blight       0.76      0.95      0.85       480\n",
      "                              Tomato___Late_blight       0.95      0.81      0.88       463\n",
      "                                Tomato___Leaf_Mold       0.70      0.99      0.82       470\n",
      "                       Tomato___Septoria_leaf_spot       0.98      0.44      0.61       436\n",
      "     Tomato___Spider_mites Two-spotted_spider_mite       0.82      0.98      0.89       435\n",
      "                              Tomato___Target_Spot       0.95      0.72      0.82       457\n",
      "            Tomato___Tomato_Yellow_Leaf_Curl_Virus       0.94      0.99      0.97       490\n",
      "                      Tomato___Tomato_mosaic_virus       0.98      0.99      0.98       448\n",
      "                                  Tomato___healthy       0.91      1.00      0.95       481\n",
      "\n",
      "                                          accuracy                           0.94     17572\n",
      "                                         macro avg       0.95      0.94      0.94     17572\n",
      "                                      weighted avg       0.95      0.94      0.94     17572\n",
      "\n"
     ]
    }
   ],
   "execution_count": 26
  },
  {
   "metadata": {
    "ExecuteTime": {
     "end_time": "2024-05-12T19:06:44.327421Z",
     "start_time": "2024-05-12T19:06:44.272871Z"
    }
   },
   "cell_type": "code",
   "source": [
    "cm = confusion_matrix(Y_true, predicted_cats)\n",
    "cm"
   ],
   "id": "b02e86a61523ba4",
   "outputs": [
    {
     "data": {
      "text/plain": [
       "array([[469,   0,   1, ...,   0,   0,   0],\n",
       "       [  1, 486,   0, ...,   0,   0,   0],\n",
       "       [  0,   0, 432, ...,   1,   0,   1],\n",
       "       ...,\n",
       "       [  0,   0,   0, ..., 484,   0,   0],\n",
       "       [  0,   0,   0, ...,   0, 445,   1],\n",
       "       [  0,   0,   0, ...,   0,   0, 480]], dtype=int64)"
      ]
     },
     "execution_count": 27,
     "metadata": {},
     "output_type": "execute_result"
    }
   ],
   "execution_count": 27
  },
  {
   "metadata": {
    "ExecuteTime": {
     "end_time": "2024-05-12T19:06:52.726658Z",
     "start_time": "2024-05-12T19:06:51.866509Z"
    }
   },
   "cell_type": "code",
   "source": [
    "from IPython.core.pylabtools import figsize\n",
    "\n",
    "plt.figure(figsize(40,40))\n",
    "sns.heatmap(cm, annot=True, annot_kws={'size':10})\n",
    "plt.xlabel(\"predicted class\", fontsize=20)\n",
    "plt.ylabel(\"true class\", fontsize=20)\n",
    "plt.title(\"Plant Disease Confusion Matrix\", fontsize=25)\n",
    "plt.show()"
   ],
   "id": "af75bb933978f7cd",
   "outputs": [
    {
     "data": {
      "text/plain": [
       "<Figure size 4000x4000 with 2 Axes>"
      ],
      "image/png": "[encoded data removed]"
     },
     "metadata": {},
     "output_type": "display_data"
    }
   ],
   "execution_count": 28
  },
  {
   "metadata": {},
   "cell_type": "code",
   "source": "",
   "id": "5873edf56851d807",
   "outputs": [],
   "execution_count": null
  }
 ],
 "metadata": {
  "kernelspec": {
   "display_name": "Python 3 (ipykernel)",
   "language": "python",
   "name": "python3"
  },
  "language_info": {
   "codemirror_mode": {
    "name": "ipython",
    "version": 3
   },
   "file_extension": ".py",
   "mimetype": "text/x-python",
   "name": "python",
   "nbconvert_exporter": "python",
   "pygments_lexer": "ipython3",
   "version": "3.9.19"
  }
 },
 "nbformat": 4,
 "nbformat_minor": 5
}
