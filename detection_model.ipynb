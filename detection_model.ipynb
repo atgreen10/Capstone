{
 "cells": [
  {
   "cell_type": "code",
   "execution_count": 1,
   "id": "ecee5a33",
   "metadata": {
    "ExecuteTime": {
     "start_time": "2024-07-01T12:09:55.127746Z"
    },
    "jupyter": {
     "is_executing": true
    }
   },
   "outputs": [],
   "source": [
    "import tensorflow as tf\n",
    "import matplotlib.pyplot as plt\n",
    "import pandas as pd\n",
    "import seaborn as sns\n",
    "import tensorflow.keras as keras\n",
    "import json\n",
    "import os\n",
    "from zipfile import ZipFile"
   ]
  },
  {
   "cell_type": "code",
   "execution_count": 2,
   "id": "c1e0387f8154896",
   "metadata": {},
   "outputs": [
    {
     "name": "stdout",
     "output_type": "stream",
     "text": [
      "[]\n",
      "Num GPUs Available:  0\n",
      "True\n",
      "[]\n"
     ]
    }
   ],
   "source": [
    "print(tf.config.list_physical_devices('GPU'))\n",
    "print(\"Num GPUs Available: \", len(tf.config.list_physical_devices('GPU')))\n",
    "\n",
    "print(tf.test.is_built_with_cuda())\n",
    "print(tf.config.list_physical_devices('GPU'))"
   ]
  },
  {
   "cell_type": "code",
   "execution_count": 3,
   "id": "dec0b4a7185255df",
   "metadata": {},
   "outputs": [
    {
     "name": "stdout",
     "output_type": "stream",
     "text": [
      "Requirement already satisfied: kaggle in c:\\users\\green\\anaconda3\\envs\\tf\\lib\\site-packages (1.6.12)\n",
      "Requirement already satisfied: six>=1.10 in c:\\users\\green\\anaconda3\\envs\\tf\\lib\\site-packages (from kaggle) (1.16.0)\n",
      "Requirement already satisfied: certifi>=2023.7.22 in c:\\users\\green\\anaconda3\\envs\\tf\\lib\\site-packages (from kaggle) (2024.2.2)\n",
      "Requirement already satisfied: python-dateutil in c:\\users\\green\\anaconda3\\envs\\tf\\lib\\site-packages (from kaggle) (2.8.2)\n",
      "Requirement already satisfied: requests in c:\\users\\green\\anaconda3\\envs\\tf\\lib\\site-packages (from kaggle) (2.31.0)\n",
      "Requirement already satisfied: tqdm in c:\\users\\green\\anaconda3\\envs\\tf\\lib\\site-packages (from kaggle) (4.66.2)\n",
      "Requirement already satisfied: python-slugify in c:\\users\\green\\anaconda3\\envs\\tf\\lib\\site-packages (from kaggle) (8.0.4)\n",
      "Requirement already satisfied: urllib3 in c:\\users\\green\\anaconda3\\envs\\tf\\lib\\site-packages (from kaggle) (2.1.0)\n",
      "Requirement already satisfied: bleach in c:\\users\\green\\anaconda3\\envs\\tf\\lib\\site-packages (from kaggle) (4.1.0)\n",
      "Requirement already satisfied: packaging in c:\\users\\green\\anaconda3\\envs\\tf\\lib\\site-packages (from bleach->kaggle) (23.2)\n",
      "Requirement already satisfied: webencodings in c:\\users\\green\\anaconda3\\envs\\tf\\lib\\site-packages (from bleach->kaggle) (0.5.1)\n",
      "Requirement already satisfied: text-unidecode>=1.3 in c:\\users\\green\\anaconda3\\envs\\tf\\lib\\site-packages (from python-slugify->kaggle) (1.3)\n",
      "Requirement already satisfied: charset-normalizer<4,>=2 in c:\\users\\green\\anaconda3\\envs\\tf\\lib\\site-packages (from requests->kaggle) (2.0.4)\n",
      "Requirement already satisfied: idna<4,>=2.5 in c:\\users\\green\\anaconda3\\envs\\tf\\lib\\site-packages (from requests->kaggle) (3.4)\n",
      "Requirement already satisfied: colorama in c:\\users\\green\\anaconda3\\envs\\tf\\lib\\site-packages (from tqdm->kaggle) (0.4.6)\n"
     ]
    }
   ],
   "source": [
    "!pip install kaggle"
   ]
  },
  {
   "cell_type": "code",
   "execution_count": 4,
   "id": "88e8d17f028b28bc",
   "metadata": {},
   "outputs": [],
   "source": [
    "kaggle_credentials = json.load(open(\"kaggle.json\"))"
   ]
  },
  {
   "cell_type": "code",
   "execution_count": 5,
   "id": "7d73bd9cf5258afc",
   "metadata": {},
   "outputs": [],
   "source": [
    "#kaggle API credentials\n",
    "os.environ['KAGGLE_USERNAME'] = kaggle_credentials[\"username\"]\n",
    "os.environ['KAGGLE_KEY'] = kaggle_credentials[\"key\"]"
   ]
  },
  {
   "cell_type": "code",
   "execution_count": null,
   "id": "cffb033a88753071",
   "metadata": {},
   "outputs": [],
   "source": [
    "#downloads dataset from kaggle\n",
    "!kaggle datasets download -d vipoooool/new-plant-diseases-dataset"
   ]
  },
  {
   "cell_type": "code",
   "execution_count": 6,
   "id": "1be50b2ba31ae77d",
   "metadata": {},
   "outputs": [],
   "source": [
    "#unzip dataset\n",
    "with ZipFile(\"new-plant-diseases-dataset.zip\", 'r') as zip_ref:\n",
    "    zip_ref.extractall()"
   ]
  },
  {
   "cell_type": "markdown",
   "id": "1cb78778bb775d16",
   "metadata": {},
   "source": [
    "<H4>Data Preprocessing\n",
    "<H5> Training set preprocessing"
   ]
  },
  {
   "cell_type": "code",
   "execution_count": 7,
   "id": "874918d1d0776ac0",
   "metadata": {},
   "outputs": [
    {
     "name": "stdout",
     "output_type": "stream",
     "text": [
      "Found 70295 files belonging to 38 classes.\n"
     ]
    }
   ],
   "source": [
    "training_set = keras.utils.image_dataset_from_directory(\n",
    "    'New Plant Diseases Dataset(Augmented)/New Plant Diseases Dataset(Augmented)/train',\n",
    "    labels=\"inferred\",\n",
    "    label_mode=\"categorical\",\n",
    "    class_names=None,\n",
    "    color_mode=\"rgb\",\n",
    "    batch_size=32,\n",
    "    image_size=(256, 256),\n",
    "    shuffle=True,\n",
    "    seed=None,\n",
    "    validation_split=None,\n",
    "    subset=None,\n",
    "    interpolation=\"bilinear\",\n",
    "    follow_links=False,\n",
    "    crop_to_aspect_ratio=False\n",
    ")"
   ]
  },
  {
   "cell_type": "markdown",
   "id": "4e8572d8b99dae99",
   "metadata": {},
   "source": [
    "<H4> Validation set processing "
   ]
  },
  {
   "cell_type": "code",
   "execution_count": 8,
   "id": "6c5b5dc1f7d51c84",
   "metadata": {},
   "outputs": [
    {
     "name": "stdout",
     "output_type": "stream",
     "text": [
      "tf.Tensor(\n",
      "[[[[113. 108. 112.]\n",
      "   [126. 121. 125.]\n",
      "   [128. 123. 127.]\n",
      "   ...\n",
      "   [162. 156. 158.]\n",
      "   [165. 159. 161.]\n",
      "   [174. 168. 170.]]\n",
      "\n",
      "  [[118. 113. 117.]\n",
      "   [123. 118. 122.]\n",
      "   [124. 119. 123.]\n",
      "   ...\n",
      "   [169. 163. 165.]\n",
      "   [172. 166. 168.]\n",
      "   [179. 173. 175.]]\n",
      "\n",
      "  [[115. 110. 114.]\n",
      "   [119. 114. 118.]\n",
      "   [126. 121. 125.]\n",
      "   ...\n",
      "   [169. 163. 165.]\n",
      "   [174. 168. 170.]\n",
      "   [178. 172. 174.]]\n",
      "\n",
      "  ...\n",
      "\n",
      "  [[ 87.  81.  85.]\n",
      "   [ 85.  79.  83.]\n",
      "   [ 84.  78.  82.]\n",
      "   ...\n",
      "   [108. 100.  98.]\n",
      "   [105.  97.  95.]\n",
      "   [ 96.  88.  86.]]\n",
      "\n",
      "  [[ 86.  80.  84.]\n",
      "   [ 87.  81.  85.]\n",
      "   [ 87.  81.  85.]\n",
      "   ...\n",
      "   [112. 104. 102.]\n",
      "   [110. 102. 100.]\n",
      "   [102.  94.  92.]]\n",
      "\n",
      "  [[ 82.  76.  80.]\n",
      "   [ 87.  81.  85.]\n",
      "   [ 92.  86.  90.]\n",
      "   ...\n",
      "   [101.  93.  91.]\n",
      "   [110. 102. 100.]\n",
      "   [115. 107. 105.]]]\n",
      "\n",
      "\n",
      " [[[113. 101. 111.]\n",
      "   [119. 107. 117.]\n",
      "   [124. 112. 122.]\n",
      "   ...\n",
      "   [136. 124. 134.]\n",
      "   [139. 127. 137.]\n",
      "   [143. 131. 141.]]\n",
      "\n",
      "  [[107.  95. 105.]\n",
      "   [110.  98. 108.]\n",
      "   [114. 102. 112.]\n",
      "   ...\n",
      "   [135. 123. 133.]\n",
      "   [137. 125. 135.]\n",
      "   [138. 126. 136.]]\n",
      "\n",
      "  [[114. 102. 112.]\n",
      "   [112. 100. 110.]\n",
      "   [111.  99. 109.]\n",
      "   ...\n",
      "   [139. 127. 137.]\n",
      "   [138. 126. 136.]\n",
      "   [137. 125. 135.]]\n",
      "\n",
      "  ...\n",
      "\n",
      "  [[132. 122. 133.]\n",
      "   [131. 121. 132.]\n",
      "   [131. 121. 132.]\n",
      "   ...\n",
      "   [140. 130. 141.]\n",
      "   [148. 138. 149.]\n",
      "   [150. 140. 151.]]\n",
      "\n",
      "  [[136. 126. 137.]\n",
      "   [136. 126. 137.]\n",
      "   [136. 126. 137.]\n",
      "   ...\n",
      "   [144. 134. 145.]\n",
      "   [146. 136. 147.]\n",
      "   [141. 131. 142.]]\n",
      "\n",
      "  [[137. 127. 138.]\n",
      "   [138. 128. 139.]\n",
      "   [139. 129. 140.]\n",
      "   ...\n",
      "   [155. 145. 156.]\n",
      "   [153. 143. 154.]\n",
      "   [143. 133. 144.]]]\n",
      "\n",
      "\n",
      " [[[  7.   0.   0.]\n",
      "   [ 13.   3.   2.]\n",
      "   [  7.   0.   0.]\n",
      "   ...\n",
      "   [  8.   0.   0.]\n",
      "   [ 17.   5.   5.]\n",
      "   [ 10.   0.   0.]]\n",
      "\n",
      "  [[158. 148. 147.]\n",
      "   [168. 158. 157.]\n",
      "   [159. 149. 148.]\n",
      "   ...\n",
      "   [152. 140. 140.]\n",
      "   [155. 143. 143.]\n",
      "   [137. 125. 125.]]\n",
      "\n",
      "  [[170. 160. 159.]\n",
      "   [147. 137. 136.]\n",
      "   [150. 140. 139.]\n",
      "   ...\n",
      "   [133. 121. 121.]\n",
      "   [141. 129. 129.]\n",
      "   [132. 120. 120.]]\n",
      "\n",
      "  ...\n",
      "\n",
      "  [[143. 134. 139.]\n",
      "   [157. 148. 153.]\n",
      "   [174. 165. 170.]\n",
      "   ...\n",
      "   [164. 153. 157.]\n",
      "   [161. 151. 150.]\n",
      "   [178. 169. 164.]]\n",
      "\n",
      "  [[168. 159. 164.]\n",
      "   [158. 149. 154.]\n",
      "   [180. 171. 176.]\n",
      "   ...\n",
      "   [148. 137. 143.]\n",
      "   [170. 161. 162.]\n",
      "   [202. 194. 191.]]\n",
      "\n",
      "  [[149. 140. 145.]\n",
      "   [121. 112. 117.]\n",
      "   [161. 152. 157.]\n",
      "   ...\n",
      "   [122. 111. 117.]\n",
      "   [176. 167. 168.]\n",
      "   [163. 155. 153.]]]\n",
      "\n",
      "\n",
      " ...\n",
      "\n",
      "\n",
      " [[[  3.   3.   3.]\n",
      "   [  3.   3.   3.]\n",
      "   [  3.   3.   3.]\n",
      "   ...\n",
      "   [  3.   3.   3.]\n",
      "   [  3.   3.   3.]\n",
      "   [  3.   3.   3.]]\n",
      "\n",
      "  [[  3.   3.   3.]\n",
      "   [  3.   3.   3.]\n",
      "   [  3.   3.   3.]\n",
      "   ...\n",
      "   [  3.   3.   3.]\n",
      "   [  3.   3.   3.]\n",
      "   [  3.   3.   3.]]\n",
      "\n",
      "  [[  3.   3.   3.]\n",
      "   [  3.   3.   3.]\n",
      "   [  3.   3.   3.]\n",
      "   ...\n",
      "   [  3.   3.   3.]\n",
      "   [  3.   3.   3.]\n",
      "   [  3.   3.   3.]]\n",
      "\n",
      "  ...\n",
      "\n",
      "  [[  3.   3.   3.]\n",
      "   [  3.   3.   3.]\n",
      "   [  3.   3.   3.]\n",
      "   ...\n",
      "   [  3.   3.   3.]\n",
      "   [  3.   3.   3.]\n",
      "   [  3.   3.   3.]]\n",
      "\n",
      "  [[  3.   3.   3.]\n",
      "   [  3.   3.   3.]\n",
      "   [  3.   3.   3.]\n",
      "   ...\n",
      "   [  3.   3.   3.]\n",
      "   [  3.   3.   3.]\n",
      "   [  3.   3.   3.]]\n",
      "\n",
      "  [[  3.   3.   3.]\n",
      "   [  3.   3.   3.]\n",
      "   [  3.   3.   3.]\n",
      "   ...\n",
      "   [  3.   3.   3.]\n",
      "   [  3.   3.   3.]\n",
      "   [  3.   3.   3.]]]\n",
      "\n",
      "\n",
      " [[[  6.   0.   6.]\n",
      "   [  4.   0.   4.]\n",
      "   [  5.   0.   5.]\n",
      "   ...\n",
      "   [  7.   0.   0.]\n",
      "   [  9.   0.   0.]\n",
      "   [  7.   0.   0.]]\n",
      "\n",
      "  [[215. 208. 215.]\n",
      "   [176. 169. 176.]\n",
      "   [154. 147. 154.]\n",
      "   ...\n",
      "   [170. 160. 159.]\n",
      "   [171. 161. 160.]\n",
      "   [170. 160. 159.]]\n",
      "\n",
      "  [[182. 175. 182.]\n",
      "   [153. 146. 153.]\n",
      "   [144. 137. 144.]\n",
      "   ...\n",
      "   [165. 155. 154.]\n",
      "   [165. 155. 154.]\n",
      "   [171. 161. 160.]]\n",
      "\n",
      "  ...\n",
      "\n",
      "  [[186. 179. 186.]\n",
      "   [188. 181. 188.]\n",
      "   [189. 182. 189.]\n",
      "   ...\n",
      "   [ 58.  73.  44.]\n",
      "   [ 51.  65.  39.]\n",
      "   [ 33.  48.  19.]]\n",
      "\n",
      "  [[186. 179. 186.]\n",
      "   [187. 180. 187.]\n",
      "   [189. 182. 189.]\n",
      "   ...\n",
      "   [ 40.  57.  25.]\n",
      "   [ 56.  72.  43.]\n",
      "   [ 61.  78.  46.]]\n",
      "\n",
      "  [[187. 180. 187.]\n",
      "   [188. 181. 188.]\n",
      "   [190. 183. 190.]\n",
      "   ...\n",
      "   [ 48.  67.  35.]\n",
      "   [ 44.  63.  31.]\n",
      "   [ 30.  49.  17.]]]\n",
      "\n",
      "\n",
      " [[[  7.   0.   0.]\n",
      "   [131. 121. 119.]\n",
      "   [127. 117. 115.]\n",
      "   ...\n",
      "   [111. 100.  98.]\n",
      "   [112. 101.  99.]\n",
      "   [113. 102. 100.]]\n",
      "\n",
      "  [[  7.   0.   0.]\n",
      "   [131. 121. 119.]\n",
      "   [126. 116. 114.]\n",
      "   ...\n",
      "   [112. 101.  99.]\n",
      "   [113. 102. 100.]\n",
      "   [114. 103. 101.]]\n",
      "\n",
      "  [[  7.   0.   0.]\n",
      "   [130. 120. 118.]\n",
      "   [124. 114. 112.]\n",
      "   ...\n",
      "   [114. 103. 101.]\n",
      "   [114. 103. 101.]\n",
      "   [114. 103. 101.]]\n",
      "\n",
      "  ...\n",
      "\n",
      "  [[  4.   0.   4.]\n",
      "   [101.  94. 101.]\n",
      "   [103.  96. 103.]\n",
      "   ...\n",
      "   [ 95.  87.  85.]\n",
      "   [ 95.  87.  85.]\n",
      "   [ 95.  87.  85.]]\n",
      "\n",
      "  [[  4.   0.   4.]\n",
      "   [100.  93. 100.]\n",
      "   [100.  93. 100.]\n",
      "   ...\n",
      "   [ 96.  88.  86.]\n",
      "   [ 95.  87.  85.]\n",
      "   [ 94.  86.  84.]]\n",
      "\n",
      "  [[  8.   1.   8.]\n",
      "   [103.  96. 103.]\n",
      "   [100.  93. 100.]\n",
      "   ...\n",
      "   [ 97.  89.  87.]\n",
      "   [ 95.  87.  85.]\n",
      "   [ 95.  87.  85.]]]], shape=(32, 256, 256, 3), dtype=float32) (32, 256, 256, 3)\n",
      "tf.Tensor(\n",
      "[[0. 0. 0. ... 0. 0. 0.]\n",
      " [0. 0. 0. ... 0. 0. 0.]\n",
      " [0. 1. 0. ... 0. 0. 0.]\n",
      " ...\n",
      " [0. 0. 0. ... 0. 0. 0.]\n",
      " [0. 0. 0. ... 0. 0. 0.]\n",
      " [0. 0. 1. ... 0. 0. 0.]], shape=(32, 38), dtype=float32) (32, 38)\n"
     ]
    }
   ],
   "source": [
    "for x,y in training_set:\n",
    "    print(x,x.shape)\n",
    "    print(y,y.shape)\n",
    "    break"
   ]
  },
  {
   "cell_type": "code",
   "execution_count": 9,
   "id": "dc6e7843103aa18c",
   "metadata": {},
   "outputs": [
    {
     "name": "stdout",
     "output_type": "stream",
     "text": [
      "Found 17572 files belonging to 38 classes.\n"
     ]
    }
   ],
   "source": [
    "validation_set = keras.utils.image_dataset_from_directory(\n",
    "    'New Plant Diseases Dataset(Augmented)/New Plant Diseases Dataset(Augmented)/valid',\n",
    "    labels=\"inferred\",\n",
    "    label_mode=\"categorical\",\n",
    "    class_names=None,\n",
    "    color_mode=\"rgb\",\n",
    "    batch_size=32,\n",
    "    image_size=(256, 256),\n",
    "    shuffle=True,\n",
    "    seed=None,\n",
    "    validation_split=None,\n",
    "    subset=None,\n",
    "    interpolation=\"bilinear\",\n",
    "    follow_links=False,\n",
    "    crop_to_aspect_ratio=False\n",
    ")"
   ]
  },
  {
   "cell_type": "markdown",
   "id": "dd07b8cbaa36329b",
   "metadata": {},
   "source": [
    "<h4> Building convolutional neural network"
   ]
  },
  {
   "cell_type": "code",
   "execution_count": 10,
   "id": "b2cf9a983ac4a609",
   "metadata": {},
   "outputs": [],
   "source": [
    "from tensorflow.keras.layers import Dense, Conv2D, MaxPool2D, Flatten, Dropout\n",
    "from tensorflow.keras.models import Sequential"
   ]
  },
  {
   "cell_type": "code",
   "execution_count": 11,
   "id": "55a8741bdd267c7e",
   "metadata": {},
   "outputs": [],
   "source": [
    "#definition of the model\n",
    "model = Sequential()\n",
    "\n",
    "model.add(Conv2D(filters=32, kernel_size=3, padding='same', activation = 'relu', input_shape=[256, 256, 3]))\n",
    "model.add(Conv2D(32, (3, 3), activation = 'relu'))\n",
    "model.add(MaxPool2D(pool_size=2, strides=2))\n",
    "\n",
    "model.add(Conv2D(filters=64, kernel_size=3, padding='same', activation = 'relu'))\n",
    "model.add(Conv2D(64,(3, 3), activation='relu'))\n",
    "model.add(MaxPool2D(2, 2))\n",
    "\n",
    "model.add(Conv2D(filters=128, kernel_size=3, padding='same', activation = 'relu'))\n",
    "model.add(Conv2D(128,(3, 3), activation='relu'))\n",
    "model.add(MaxPool2D(2, 2))\n",
    "\n",
    "model.add(Conv2D(filters=256, kernel_size=3, padding='same',activation = 'relu'))\n",
    "model.add(Conv2D(256,(3, 3), activation='relu'))\n",
    "model.add(MaxPool2D(2, 2))\n",
    "\n",
    "model.add(Conv2D(filters=512, kernel_size=3, activation = 'relu'))\n",
    "model.add(Conv2D(512,(3, 3), activation='relu'))\n",
    "model.add(MaxPool2D(2, 2))\n",
    "\n",
    "model.add(Dropout(0.25))\n",
    "\n",
    "#flattens to one dimension array for the output layers\n",
    "model.add(Flatten())\n",
    "model.add(Dense(units=1500, activation='relu'))\n",
    "\n",
    "model.add(Dropout(0.4))\n",
    "\n",
    "#output layer\n",
    "model.add(Dense(units=38, activation='softmax'))"
   ]
  },
  {
   "cell_type": "markdown",
   "id": "d8c940b9de3b1dc8",
   "metadata": {},
   "source": [
    "<h4> Compile model"
   ]
  },
  {
   "cell_type": "code",
   "execution_count": 12,
   "id": "8fe18c66b793cc01",
   "metadata": {},
   "outputs": [],
   "source": [
    "model.compile(optimizer=tf.keras.optimizers.Adam(learning_rate=0.0001), loss='categorical_crossentropy', metrics=['accuracy'])"
   ]
  },
  {
   "cell_type": "code",
   "execution_count": 13,
   "id": "b09a643eb3e9c4a",
   "metadata": {},
   "outputs": [
    {
     "name": "stdout",
     "output_type": "stream",
     "text": [
      "Model: \"sequential\"\n",
      "_________________________________________________________________\n",
      " Layer (type)                Output Shape              Param #   \n",
      "=================================================================\n",
      " conv2d (Conv2D)             (None, 256, 256, 32)      896       \n",
      "                                                                 \n",
      " conv2d_1 (Conv2D)           (None, 254, 254, 32)      9248      \n",
      "                                                                 \n",
      " max_pooling2d (MaxPooling2D  (None, 127, 127, 32)     0         \n",
      " )                                                               \n",
      "                                                                 \n",
      " conv2d_2 (Conv2D)           (None, 127, 127, 64)      18496     \n",
      "                                                                 \n",
      " conv2d_3 (Conv2D)           (None, 125, 125, 64)      36928     \n",
      "                                                                 \n",
      " max_pooling2d_1 (MaxPooling  (None, 62, 62, 64)       0         \n",
      " 2D)                                                             \n",
      "                                                                 \n",
      " conv2d_4 (Conv2D)           (None, 62, 62, 128)       73856     \n",
      "                                                                 \n",
      " conv2d_5 (Conv2D)           (None, 60, 60, 128)       147584    \n",
      "                                                                 \n",
      " max_pooling2d_2 (MaxPooling  (None, 30, 30, 128)      0         \n",
      " 2D)                                                             \n",
      "                                                                 \n",
      " conv2d_6 (Conv2D)           (None, 30, 30, 256)       295168    \n",
      "                                                                 \n",
      " conv2d_7 (Conv2D)           (None, 28, 28, 256)       590080    \n",
      "                                                                 \n",
      " max_pooling2d_3 (MaxPooling  (None, 14, 14, 256)      0         \n",
      " 2D)                                                             \n",
      "                                                                 \n",
      " conv2d_8 (Conv2D)           (None, 12, 12, 512)       1180160   \n",
      "                                                                 \n",
      " conv2d_9 (Conv2D)           (None, 10, 10, 512)       2359808   \n",
      "                                                                 \n",
      " max_pooling2d_4 (MaxPooling  (None, 5, 5, 512)        0         \n",
      " 2D)                                                             \n",
      "                                                                 \n",
      " dropout (Dropout)           (None, 5, 5, 512)         0         \n",
      "                                                                 \n",
      " flatten (Flatten)           (None, 12800)             0         \n",
      "                                                                 \n",
      " dense (Dense)               (None, 1500)              19201500  \n",
      "                                                                 \n",
      " dropout_1 (Dropout)         (None, 1500)              0         \n",
      "                                                                 \n",
      " dense_1 (Dense)             (None, 38)                57038     \n",
      "                                                                 \n",
      "=================================================================\n",
      "Total params: 23,970,762\n",
      "Trainable params: 23,970,762\n",
      "Non-trainable params: 0\n",
      "_________________________________________________________________\n"
     ]
    }
   ],
   "source": [
    "model.summary()"
   ]
  },
  {
   "cell_type": "markdown",
   "id": "d503fc762084d53f",
   "metadata": {},
   "source": [
    "<H4> Model training"
   ]
  },
  {
   "cell_type": "code",
   "execution_count": null,
   "id": "3114e0c279593dbd",
   "metadata": {},
   "outputs": [
    {
     "name": "stdout",
     "output_type": "stream",
     "text": [
      "Epoch 1/5\n",
      "   1/2197 [..............................] - ETA: 1:59:23 - loss: 6.3599 - accuracy: 0.0000e+00"
     ]
    }
   ],
   "source": [
    "training_history = model.fit(x=training_set, validation_data=validation_set, epochs=5)"
   ]
  },
  {
   "cell_type": "markdown",
   "id": "59f0bb546f332ca2",
   "metadata": {},
   "source": [
    "<H4> Model evaluation"
   ]
  },
  {
   "cell_type": "code",
   "execution_count": null,
   "id": "5174c3193ac8e975",
   "metadata": {},
   "outputs": [],
   "source": [
    "train_loss, train_accuracy = model.evaluate(training_set)"
   ]
  },
  {
   "cell_type": "code",
   "execution_count": null,
   "id": "9ba5f670f0a26cd3",
   "metadata": {},
   "outputs": [],
   "source": [
    "print(train_loss, train_accuracy)"
   ]
  },
  {
   "cell_type": "code",
   "execution_count": null,
   "id": "cd53e91e933da85a",
   "metadata": {},
   "outputs": [],
   "source": [
    "validation_loss, validation_accuracy = model.evaluate(validation_set)"
   ]
  },
  {
   "cell_type": "code",
   "execution_count": null,
   "id": "debeb6dbf00fcb91",
   "metadata": {},
   "outputs": [],
   "source": [
    "print(validation_loss, validation_accuracy)"
   ]
  },
  {
   "cell_type": "markdown",
   "id": "5a9c62b89500b223",
   "metadata": {},
   "source": [
    "<H4> Save model"
   ]
  },
  {
   "cell_type": "code",
   "execution_count": null,
   "id": "1fa8875cc9e421a3",
   "metadata": {},
   "outputs": [],
   "source": [
    "from keras import Model\n",
    "\n",
    "model.save(filepath=\"trained_model/trained_disease_detection.keras\", overwrite=True, save_format=\"keras\")"
   ]
  },
  {
   "cell_type": "code",
   "execution_count": null,
   "id": "b22085ee054b8f8c",
   "metadata": {},
   "outputs": [],
   "source": [
    "training_history.history"
   ]
  },
  {
   "cell_type": "markdown",
   "id": "cc4e77c1cd8f6f57",
   "metadata": {},
   "source": [
    "<h5> Recording history in JSON"
   ]
  },
  {
   "cell_type": "code",
   "execution_count": null,
   "id": "48ad95b6b101801c",
   "metadata": {},
   "outputs": [],
   "source": [
    "import json\n",
    "with open(\"training_history.json\", \"w\") as f:\n",
    "    json.dump(training_history.history, f)"
   ]
  },
  {
   "cell_type": "markdown",
   "id": "8e25518a36a7e2f1",
   "metadata": {},
   "source": [
    "<H4> Visualizations and Metrics"
   ]
  },
  {
   "cell_type": "code",
   "execution_count": null,
   "id": "db644cdf32fe7d95",
   "metadata": {},
   "outputs": [],
   "source": [
    "epochs = [i for i in range(1,6)]\n",
    "plt.plot(epochs, training_history.history['accuracy'], color='green', label=\"training accuracy\")\n",
    "plt.plot(epochs, training_history.history['val_accuracy'], color='red', label=\"validation accuracy\")\n",
    "plt.xlabel(\"Number of epochs\")\n",
    "plt.ylabel(\"Accuracy\")\n",
    "plt.title(\"Accuracy per Epoch\")\n",
    "plt.legend()\n",
    "plt.show()"
   ]
  },
  {
   "cell_type": "code",
   "execution_count": null,
   "id": "996b221224dce42e",
   "metadata": {},
   "outputs": [],
   "source": [
    "class_name = validation_set.class_names\n",
    "class_name"
   ]
  },
  {
   "cell_type": "code",
   "execution_count": null,
   "id": "7cff31e10287b9d8",
   "metadata": {},
   "outputs": [],
   "source": [
    "test_set = keras.utils.image_dataset_from_directory(\n",
    "    'Plant_Diseases_Dataset/valid',\n",
    "    labels=\"inferred\",\n",
    "    label_mode=\"categorical\",\n",
    "    class_names=None,\n",
    "    color_mode=\"rgb\",\n",
    "    batch_size=32,\n",
    "    image_size=(256, 256),\n",
    "    shuffle=False,\n",
    "    seed=None,\n",
    "    validation_split=None,\n",
    "    subset=None,\n",
    "    interpolation=\"bilinear\",\n",
    "    follow_links=False,\n",
    "    crop_to_aspect_ratio=False\n",
    ") "
   ]
  },
  {
   "cell_type": "code",
   "execution_count": null,
   "id": "1ad0484be3c9d82a",
   "metadata": {},
   "outputs": [],
   "source": [
    "y_pred = model.predict(test_set)\n",
    "y_pred"
   ]
  },
  {
   "cell_type": "code",
   "execution_count": null,
   "id": "ae3a4d3c2a87d581",
   "metadata": {},
   "outputs": [],
   "source": [
    "predicted_cats = tf.argmax(y_pred, axis=1)"
   ]
  },
  {
   "cell_type": "code",
   "execution_count": null,
   "id": "e50387f132fc6ba8",
   "metadata": {},
   "outputs": [],
   "source": [
    "true_cats = tf.concat([y for x,y in test_set], axis=0)\n",
    "true_cats"
   ]
  },
  {
   "cell_type": "code",
   "execution_count": null,
   "id": "f503c1acd86eba12",
   "metadata": {},
   "outputs": [],
   "source": [
    "Y_true = tf.argmax(true_cats, axis=1)\n",
    "Y_true"
   ]
  },
  {
   "cell_type": "code",
   "execution_count": null,
   "id": "f8be736b5eb39909",
   "metadata": {},
   "outputs": [],
   "source": [
    "from sklearn.metrics import classification_report, confusion_matrix\n"
   ]
  },
  {
   "cell_type": "code",
   "execution_count": null,
   "id": "c838783880175695",
   "metadata": {},
   "outputs": [],
   "source": [
    "print(classification_report(Y_true, predicted_cats, target_names=class_name))"
   ]
  },
  {
   "cell_type": "code",
   "execution_count": null,
   "id": "b02e86a61523ba4",
   "metadata": {},
   "outputs": [],
   "source": [
    "cm = confusion_matrix(Y_true, predicted_cats)\n",
    "cm"
   ]
  },
  {
   "cell_type": "code",
   "execution_count": null,
   "id": "af75bb933978f7cd",
   "metadata": {},
   "outputs": [],
   "source": [
    "from IPython.core.pylabtools import figsize\n",
    "\n",
    "plt.figure(figsize(40,40))\n",
    "sns.heatmap(cm, annot=True, annot_kws={'size':10})\n",
    "plt.xlabel(\"predicted class\", fontsize=20)\n",
    "plt.ylabel(\"true class\", fontsize=20)\n",
    "plt.title(\"Plant Disease Confusion Matrix\", fontsize=25)\n",
    "plt.show()"
   ]
  },
  {
   "cell_type": "code",
   "execution_count": null,
   "id": "5873edf56851d807",
   "metadata": {},
   "outputs": [],
   "source": []
  }
 ],
 "metadata": {
  "kernelspec": {
   "display_name": "Python 3 (ipykernel)",
   "language": "python",
   "name": "python3"
  },
  "language_info": {
   "codemirror_mode": {
    "name": "ipython",
    "version": 3
   },
   "file_extension": ".py",
   "mimetype": "text/x-python",
   "name": "python",
   "nbconvert_exporter": "python",
   "pygments_lexer": "ipython3",
   "version": "3.9.19"
  }
 },
 "nbformat": 4,
 "nbformat_minor": 5
}
